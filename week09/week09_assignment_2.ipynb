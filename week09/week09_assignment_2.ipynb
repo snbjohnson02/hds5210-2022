{
 "cells": [
  {
   "cell_type": "markdown",
   "metadata": {},
   "source": [
    "# Week 9 Assignment\n",
    "\n",
    "_MkKinney 6.1_\n",
    "\n",
    "The work this week has involved using Pandas to load, manipulate, and visualize data.  For this exercise, we're going to be working with some of the price transparency data from [Baptist Health Medical Center](https://www.baptist-health.com/hospital-charges-and-negotiated-rates/) in Little Rock, AR. We've chosen them because their data is relatively easy to reach with Pandas and has some interesting insights.\n",
    "\n",
    "Note that the files we're working with here are from 2021. Baptist Health has since changed the file format.  This won't work correctly if you try to do it with files downloaded from the website above. It will only work with the files in the `/data` directory on this server.\n",
    "\n",
    "---\n",
    "---"
   ]
  },
  {
   "cell_type": "markdown",
   "metadata": {},
   "source": [
    "### 41.1 Loading and viewing the data\n",
    "\n",
    "There are four files in the `/data` directory related to Baptist Health:\n",
    "* bhmclr_cpt.xlsx\n",
    "* bhmclr_drg.xlsx\n",
    "* bhmclr_med.xlsx\n",
    "* bhmclr_proc.xlsx\n",
    "\n",
    "All of these files have the same format, so you can load and process them all the same way, but the subsets of data in each are distinct.\n",
    "\n",
    "For this first step, we're going to load the DRG data and inspect it using Pandas.  If you download this file and open it in Excel, there will be a few things you notice:\n",
    "1. The workbook has two sheets: \"Pivot\" and \"Sheet1\" - \"Sheet1\" is the one we want\n",
    "2. \"Sheet1\" has three rows before we get to the actual table header - we'll want to skip those rows\n",
    "3. Also, I've filtered the data to just those DRGs where the cash price is less than 20,000 for demo purposes"
   ]
  },
  {
   "cell_type": "code",
   "execution_count": 1,
   "metadata": {},
   "outputs": [],
   "source": [
    "import pandas as pd\n",
    "import matplotlib.pyplot as plt\n",
    "\n",
    "data = pd.read_excel('/data/bhmclr_drg.xlsx', sheet_name='Sheet1', skiprows=3)"
   ]
  },
  {
   "cell_type": "code",
   "execution_count": 2,
   "metadata": {},
   "outputs": [
    {
     "data": {
      "text/plain": [
       "(3864, 19)"
      ]
     },
     "execution_count": 2,
     "metadata": {},
     "output_type": "execute_result"
    }
   ],
   "source": [
    "data.shape"
   ]
  },
  {
   "cell_type": "code",
   "execution_count": 3,
   "metadata": {},
   "outputs": [
    {
     "data": {
      "text/plain": [
       "Index(['Location', 'Code Type', 'Code', 'NDC', 'Rev Code', 'Procedure',\n",
       "       'Procedure Description', 'Quantity', 'Payer', 'IP Charge',\n",
       "       'IP Expected Reimbursement', 'MIN_IP_XR', 'MAX_IP_XR', 'IP Cash Price',\n",
       "       'OP Charge', 'OP Expected Reimbursement', 'MIN_OP_XR', 'MAX_OP_XR',\n",
       "       'OP Cash Price'],\n",
       "      dtype='object')"
      ]
     },
     "execution_count": 3,
     "metadata": {},
     "output_type": "execute_result"
    }
   ],
   "source": [
    "data.columns"
   ]
  },
  {
   "cell_type": "code",
   "execution_count": 4,
   "metadata": {},
   "outputs": [
    {
     "data": {
      "text/html": [
       "<div>\n",
       "<style scoped>\n",
       "    .dataframe tbody tr th:only-of-type {\n",
       "        vertical-align: middle;\n",
       "    }\n",
       "\n",
       "    .dataframe tbody tr th {\n",
       "        vertical-align: top;\n",
       "    }\n",
       "\n",
       "    .dataframe thead th {\n",
       "        text-align: right;\n",
       "    }\n",
       "</style>\n",
       "<table border=\"1\" class=\"dataframe\">\n",
       "  <thead>\n",
       "    <tr style=\"text-align: right;\">\n",
       "      <th></th>\n",
       "      <th>Location</th>\n",
       "      <th>Code Type</th>\n",
       "      <th>Code</th>\n",
       "      <th>NDC</th>\n",
       "      <th>Rev Code</th>\n",
       "      <th>Procedure</th>\n",
       "      <th>Procedure Description</th>\n",
       "      <th>Quantity</th>\n",
       "      <th>Payer</th>\n",
       "      <th>IP Charge</th>\n",
       "      <th>IP Expected Reimbursement</th>\n",
       "      <th>MIN_IP_XR</th>\n",
       "      <th>MAX_IP_XR</th>\n",
       "      <th>IP Cash Price</th>\n",
       "      <th>OP Charge</th>\n",
       "      <th>OP Expected Reimbursement</th>\n",
       "      <th>MIN_OP_XR</th>\n",
       "      <th>MAX_OP_XR</th>\n",
       "      <th>OP Cash Price</th>\n",
       "    </tr>\n",
       "  </thead>\n",
       "  <tbody>\n",
       "    <tr>\n",
       "      <th>0</th>\n",
       "      <td>BHMC LITTLE ROCK</td>\n",
       "      <td>DRG</td>\n",
       "      <td>MS-DRG V38 (FY 2021) 013</td>\n",
       "      <td>NaN</td>\n",
       "      <td>NaN</td>\n",
       "      <td>MS013</td>\n",
       "      <td>Tracheostomy For Face, Mouth And Neck Diagnose...</td>\n",
       "      <td>1</td>\n",
       "      <td>AETNA [65000]</td>\n",
       "      <td>59006.00</td>\n",
       "      <td>31705.95</td>\n",
       "      <td>11936.11</td>\n",
       "      <td>31705.95</td>\n",
       "      <td>15341.56</td>\n",
       "      <td>0</td>\n",
       "      <td>NaN</td>\n",
       "      <td>NaN</td>\n",
       "      <td>NaN</td>\n",
       "      <td>NaN</td>\n",
       "    </tr>\n",
       "    <tr>\n",
       "      <th>1</th>\n",
       "      <td>BHMC LITTLE ROCK</td>\n",
       "      <td>DRG</td>\n",
       "      <td>MS-DRG V38 (FY 2021) 022</td>\n",
       "      <td>NaN</td>\n",
       "      <td>NaN</td>\n",
       "      <td>MS022</td>\n",
       "      <td>Intracranial Vascular Procedures With Principa...</td>\n",
       "      <td>1</td>\n",
       "      <td>AETNA [65000]</td>\n",
       "      <td>61399.00</td>\n",
       "      <td>61399.00</td>\n",
       "      <td>15963.74</td>\n",
       "      <td>61399.00</td>\n",
       "      <td>15963.74</td>\n",
       "      <td>0</td>\n",
       "      <td>NaN</td>\n",
       "      <td>NaN</td>\n",
       "      <td>NaN</td>\n",
       "      <td>NaN</td>\n",
       "    </tr>\n",
       "    <tr>\n",
       "      <th>2</th>\n",
       "      <td>BHMC LITTLE ROCK</td>\n",
       "      <td>DRG</td>\n",
       "      <td>MS-DRG V38 (FY 2021) 024</td>\n",
       "      <td>NaN</td>\n",
       "      <td>NaN</td>\n",
       "      <td>MS024</td>\n",
       "      <td>Craniotomy With Major Device Implant Or Acute ...</td>\n",
       "      <td>1</td>\n",
       "      <td>AETNA [65000]</td>\n",
       "      <td>72401.56</td>\n",
       "      <td>NaN</td>\n",
       "      <td>7770.00</td>\n",
       "      <td>23719.14</td>\n",
       "      <td>18824.41</td>\n",
       "      <td>0</td>\n",
       "      <td>NaN</td>\n",
       "      <td>NaN</td>\n",
       "      <td>NaN</td>\n",
       "      <td>NaN</td>\n",
       "    </tr>\n",
       "    <tr>\n",
       "      <th>3</th>\n",
       "      <td>BHMC LITTLE ROCK</td>\n",
       "      <td>DRG</td>\n",
       "      <td>MS-DRG V38 (FY 2021) 025</td>\n",
       "      <td>NaN</td>\n",
       "      <td>NaN</td>\n",
       "      <td>MS025</td>\n",
       "      <td>Craniotomy And Endovascular Intracranial Proce...</td>\n",
       "      <td>1</td>\n",
       "      <td>AETNA [65000]</td>\n",
       "      <td>76565.21</td>\n",
       "      <td>57449.30</td>\n",
       "      <td>7770.00</td>\n",
       "      <td>57449.30</td>\n",
       "      <td>19906.95</td>\n",
       "      <td>0</td>\n",
       "      <td>NaN</td>\n",
       "      <td>NaN</td>\n",
       "      <td>NaN</td>\n",
       "      <td>NaN</td>\n",
       "    </tr>\n",
       "    <tr>\n",
       "      <th>4</th>\n",
       "      <td>BHMC LITTLE ROCK</td>\n",
       "      <td>DRG</td>\n",
       "      <td>MS-DRG V38 (FY 2021) 026</td>\n",
       "      <td>NaN</td>\n",
       "      <td>NaN</td>\n",
       "      <td>MS026</td>\n",
       "      <td>Craniotomy And Endovascular Intracranial Proce...</td>\n",
       "      <td>1</td>\n",
       "      <td>AETNA [65000]</td>\n",
       "      <td>64748.06</td>\n",
       "      <td>29999.01</td>\n",
       "      <td>2913.75</td>\n",
       "      <td>29999.01</td>\n",
       "      <td>16834.50</td>\n",
       "      <td>0</td>\n",
       "      <td>NaN</td>\n",
       "      <td>NaN</td>\n",
       "      <td>NaN</td>\n",
       "      <td>NaN</td>\n",
       "    </tr>\n",
       "  </tbody>\n",
       "</table>\n",
       "</div>"
      ],
      "text/plain": [
       "           Location Code Type                      Code  NDC  Rev Code  \\\n",
       "0  BHMC LITTLE ROCK       DRG  MS-DRG V38 (FY 2021) 013  NaN       NaN   \n",
       "1  BHMC LITTLE ROCK       DRG  MS-DRG V38 (FY 2021) 022  NaN       NaN   \n",
       "2  BHMC LITTLE ROCK       DRG  MS-DRG V38 (FY 2021) 024  NaN       NaN   \n",
       "3  BHMC LITTLE ROCK       DRG  MS-DRG V38 (FY 2021) 025  NaN       NaN   \n",
       "4  BHMC LITTLE ROCK       DRG  MS-DRG V38 (FY 2021) 026  NaN       NaN   \n",
       "\n",
       "  Procedure                              Procedure Description  Quantity  \\\n",
       "0     MS013  Tracheostomy For Face, Mouth And Neck Diagnose...         1   \n",
       "1     MS022  Intracranial Vascular Procedures With Principa...         1   \n",
       "2     MS024  Craniotomy With Major Device Implant Or Acute ...         1   \n",
       "3     MS025  Craniotomy And Endovascular Intracranial Proce...         1   \n",
       "4     MS026  Craniotomy And Endovascular Intracranial Proce...         1   \n",
       "\n",
       "           Payer  IP Charge  IP Expected Reimbursement  MIN_IP_XR  MAX_IP_XR  \\\n",
       "0  AETNA [65000]   59006.00                   31705.95   11936.11   31705.95   \n",
       "1  AETNA [65000]   61399.00                   61399.00   15963.74   61399.00   \n",
       "2  AETNA [65000]   72401.56                        NaN    7770.00   23719.14   \n",
       "3  AETNA [65000]   76565.21                   57449.30    7770.00   57449.30   \n",
       "4  AETNA [65000]   64748.06                   29999.01    2913.75   29999.01   \n",
       "\n",
       "   IP Cash Price  OP Charge  OP Expected Reimbursement  MIN_OP_XR  MAX_OP_XR  \\\n",
       "0       15341.56          0                        NaN        NaN        NaN   \n",
       "1       15963.74          0                        NaN        NaN        NaN   \n",
       "2       18824.41          0                        NaN        NaN        NaN   \n",
       "3       19906.95          0                        NaN        NaN        NaN   \n",
       "4       16834.50          0                        NaN        NaN        NaN   \n",
       "\n",
       "   OP Cash Price  \n",
       "0            NaN  \n",
       "1            NaN  \n",
       "2            NaN  \n",
       "3            NaN  \n",
       "4            NaN  "
      ]
     },
     "execution_count": 4,
     "metadata": {},
     "output_type": "execute_result"
    }
   ],
   "source": [
    "data.head()"
   ]
  },
  {
   "cell_type": "code",
   "execution_count": 5,
   "metadata": {},
   "outputs": [
    {
     "data": {
      "text/plain": [
       "array([[<matplotlib.axes._subplots.AxesSubplot object at 0x7f0b7c145cf8>,\n",
       "        <matplotlib.axes._subplots.AxesSubplot object at 0x7f0b7a090fd0>]],\n",
       "      dtype=object)"
      ]
     },
     "execution_count": 5,
     "metadata": {},
     "output_type": "execute_result"
    },
    {
     "data": {
      "image/png": "[encoded data removed]",
      "text/plain": [
       "<Figure size 792x396 with 2 Axes>"
      ]
     },
     "metadata": {
      "needs_background": "light"
     },
     "output_type": "display_data"
    }
   ],
   "source": [
    "data[['IP Cash Price','IP Charge']].hist(figsize=(11,5.5))"
   ]
  },
  {
   "cell_type": "code",
   "execution_count": 6,
   "metadata": {},
   "outputs": [
    {
     "data": {
      "text/plain": [
       "array([[<matplotlib.axes._subplots.AxesSubplot object at 0x7f0b7c219fd0>,\n",
       "        <matplotlib.axes._subplots.AxesSubplot object at 0x7f0b7c1f0e48>]],\n",
       "      dtype=object)"
      ]
     },
     "execution_count": 6,
     "metadata": {},
     "output_type": "execute_result"
    },
    {
     "data": {
      "image/png": "[encoded data removed]",
      "text/plain": [
       "<Figure size 792x396 with 2 Axes>"
      ]
     },
     "metadata": {
      "needs_background": "light"
     },
     "output_type": "display_data"
    }
   ],
   "source": [
    "data[['IP Cash Price','IP Charge']].hist(range=[0,40000], figsize=(11,5.5))"
   ]
  },
  {
   "cell_type": "code",
   "execution_count": 7,
   "metadata": {},
   "outputs": [
    {
     "data": {
      "text/html": [
       "<div>\n",
       "<style scoped>\n",
       "    .dataframe tbody tr th:only-of-type {\n",
       "        vertical-align: middle;\n",
       "    }\n",
       "\n",
       "    .dataframe tbody tr th {\n",
       "        vertical-align: top;\n",
       "    }\n",
       "\n",
       "    .dataframe thead th {\n",
       "        text-align: right;\n",
       "    }\n",
       "</style>\n",
       "<table border=\"1\" class=\"dataframe\">\n",
       "  <thead>\n",
       "    <tr style=\"text-align: right;\">\n",
       "      <th></th>\n",
       "      <th>Location</th>\n",
       "      <th>Code Type</th>\n",
       "      <th>Code</th>\n",
       "      <th>NDC</th>\n",
       "      <th>Rev Code</th>\n",
       "      <th>Procedure</th>\n",
       "      <th>Procedure Description</th>\n",
       "      <th>Quantity</th>\n",
       "      <th>Payer</th>\n",
       "      <th>IP Charge</th>\n",
       "      <th>IP Expected Reimbursement</th>\n",
       "      <th>MIN_IP_XR</th>\n",
       "      <th>MAX_IP_XR</th>\n",
       "      <th>IP Cash Price</th>\n",
       "      <th>OP Charge</th>\n",
       "      <th>OP Expected Reimbursement</th>\n",
       "      <th>MIN_OP_XR</th>\n",
       "      <th>MAX_OP_XR</th>\n",
       "      <th>OP Cash Price</th>\n",
       "    </tr>\n",
       "  </thead>\n",
       "  <tbody>\n",
       "    <tr>\n",
       "      <th>800</th>\n",
       "      <td>BHMC LITTLE ROCK</td>\n",
       "      <td>DRG</td>\n",
       "      <td>MS-DRG V38 (FY 2021) 263</td>\n",
       "      <td>NaN</td>\n",
       "      <td>NaN</td>\n",
       "      <td>MS263</td>\n",
       "      <td>Vein Ligation And Stripping</td>\n",
       "      <td>1</td>\n",
       "      <td>ALLWELL [15100]</td>\n",
       "      <td>120026.89</td>\n",
       "      <td>NaN</td>\n",
       "      <td>NaN</td>\n",
       "      <td>NaN</td>\n",
       "      <td>NaN</td>\n",
       "      <td>0</td>\n",
       "      <td>NaN</td>\n",
       "      <td>NaN</td>\n",
       "      <td>NaN</td>\n",
       "      <td>NaN</td>\n",
       "    </tr>\n",
       "    <tr>\n",
       "      <th>858</th>\n",
       "      <td>BHMC LITTLE ROCK</td>\n",
       "      <td>DRG</td>\n",
       "      <td>MS-DRG V38 (FY 2021) 344</td>\n",
       "      <td>NaN</td>\n",
       "      <td>NaN</td>\n",
       "      <td>MS344</td>\n",
       "      <td>Minor Small And Large Bowel Procedures With McC</td>\n",
       "      <td>1</td>\n",
       "      <td>ALLWELL [15100]</td>\n",
       "      <td>102435.46</td>\n",
       "      <td>16684.09</td>\n",
       "      <td>16684.09</td>\n",
       "      <td>32536.01</td>\n",
       "      <td>17614.77</td>\n",
       "      <td>0</td>\n",
       "      <td>NaN</td>\n",
       "      <td>NaN</td>\n",
       "      <td>NaN</td>\n",
       "      <td>NaN</td>\n",
       "    </tr>\n",
       "    <tr>\n",
       "      <th>934</th>\n",
       "      <td>BHMC LITTLE ROCK</td>\n",
       "      <td>DRG</td>\n",
       "      <td>MS-DRG V38 (FY 2021) 461</td>\n",
       "      <td>NaN</td>\n",
       "      <td>NaN</td>\n",
       "      <td>MS461</td>\n",
       "      <td>Bilateral Or Multiple Major Joint Procedures O...</td>\n",
       "      <td>1</td>\n",
       "      <td>ALLWELL [15100]</td>\n",
       "      <td>121126.29</td>\n",
       "      <td>NaN</td>\n",
       "      <td>8741.25</td>\n",
       "      <td>9225.00</td>\n",
       "      <td>NaN</td>\n",
       "      <td>0</td>\n",
       "      <td>NaN</td>\n",
       "      <td>NaN</td>\n",
       "      <td>NaN</td>\n",
       "      <td>NaN</td>\n",
       "    </tr>\n",
       "    <tr>\n",
       "      <th>1171</th>\n",
       "      <td>BHMC LITTLE ROCK</td>\n",
       "      <td>DRG</td>\n",
       "      <td>MS-DRG V38 (FY 2021) 802</td>\n",
       "      <td>NaN</td>\n",
       "      <td>NaN</td>\n",
       "      <td>MS802</td>\n",
       "      <td>Other O.R. Procedures Of The Blood And Blood F...</td>\n",
       "      <td>1</td>\n",
       "      <td>ALLWELL [15100]</td>\n",
       "      <td>143667.09</td>\n",
       "      <td>NaN</td>\n",
       "      <td>9725.00</td>\n",
       "      <td>10204.12</td>\n",
       "      <td>10204.12</td>\n",
       "      <td>0</td>\n",
       "      <td>NaN</td>\n",
       "      <td>NaN</td>\n",
       "      <td>NaN</td>\n",
       "      <td>NaN</td>\n",
       "    </tr>\n",
       "    <tr>\n",
       "      <th>1264</th>\n",
       "      <td>BHMC LITTLE ROCK</td>\n",
       "      <td>DRG</td>\n",
       "      <td>MS-DRG V38 (FY 2021) 939</td>\n",
       "      <td>NaN</td>\n",
       "      <td>NaN</td>\n",
       "      <td>MS939</td>\n",
       "      <td>O.R. Procedures With Diagnoses Of Other Contac...</td>\n",
       "      <td>1</td>\n",
       "      <td>ALLWELL [15100]</td>\n",
       "      <td>480809.48</td>\n",
       "      <td>NaN</td>\n",
       "      <td>7790.37</td>\n",
       "      <td>7790.37</td>\n",
       "      <td>7790.37</td>\n",
       "      <td>0</td>\n",
       "      <td>NaN</td>\n",
       "      <td>NaN</td>\n",
       "      <td>NaN</td>\n",
       "      <td>NaN</td>\n",
       "    </tr>\n",
       "    <tr>\n",
       "      <th>1945</th>\n",
       "      <td>BHMC LITTLE ROCK</td>\n",
       "      <td>DRG</td>\n",
       "      <td>MS-DRG V38 (FY 2021) 037</td>\n",
       "      <td>NaN</td>\n",
       "      <td>NaN</td>\n",
       "      <td>MS037</td>\n",
       "      <td>Extracranial Procedures With McC</td>\n",
       "      <td>1</td>\n",
       "      <td>ARKANSAS TOTAL CARE [40700]</td>\n",
       "      <td>123035.47</td>\n",
       "      <td>NaN</td>\n",
       "      <td>17816.08</td>\n",
       "      <td>39275.00</td>\n",
       "      <td>17816.08</td>\n",
       "      <td>0</td>\n",
       "      <td>NaN</td>\n",
       "      <td>NaN</td>\n",
       "      <td>NaN</td>\n",
       "      <td>NaN</td>\n",
       "    </tr>\n",
       "    <tr>\n",
       "      <th>2091</th>\n",
       "      <td>BHMC LITTLE ROCK</td>\n",
       "      <td>DRG</td>\n",
       "      <td>MS-DRG V38 (FY 2021) 263</td>\n",
       "      <td>NaN</td>\n",
       "      <td>NaN</td>\n",
       "      <td>MS263</td>\n",
       "      <td>Vein Ligation And Stripping</td>\n",
       "      <td>1</td>\n",
       "      <td>ARKANSAS TOTAL CARE [40700]</td>\n",
       "      <td>121981.89</td>\n",
       "      <td>NaN</td>\n",
       "      <td>NaN</td>\n",
       "      <td>NaN</td>\n",
       "      <td>NaN</td>\n",
       "      <td>0</td>\n",
       "      <td>NaN</td>\n",
       "      <td>NaN</td>\n",
       "      <td>NaN</td>\n",
       "      <td>NaN</td>\n",
       "    </tr>\n",
       "    <tr>\n",
       "      <th>2138</th>\n",
       "      <td>BHMC LITTLE ROCK</td>\n",
       "      <td>DRG</td>\n",
       "      <td>MS-DRG V38 (FY 2021) 333</td>\n",
       "      <td>NaN</td>\n",
       "      <td>NaN</td>\n",
       "      <td>MS333</td>\n",
       "      <td>Rectal Resection With Cc</td>\n",
       "      <td>1</td>\n",
       "      <td>ARKANSAS TOTAL CARE [40700]</td>\n",
       "      <td>128929.41</td>\n",
       "      <td>NaN</td>\n",
       "      <td>12824.58</td>\n",
       "      <td>26704.23</td>\n",
       "      <td>15975.34</td>\n",
       "      <td>0</td>\n",
       "      <td>NaN</td>\n",
       "      <td>NaN</td>\n",
       "      <td>NaN</td>\n",
       "      <td>NaN</td>\n",
       "    </tr>\n",
       "    <tr>\n",
       "      <th>2149</th>\n",
       "      <td>BHMC LITTLE ROCK</td>\n",
       "      <td>DRG</td>\n",
       "      <td>MS-DRG V38 (FY 2021) 344</td>\n",
       "      <td>NaN</td>\n",
       "      <td>NaN</td>\n",
       "      <td>MS344</td>\n",
       "      <td>Minor Small And Large Bowel Procedures With McC</td>\n",
       "      <td>1</td>\n",
       "      <td>ARKANSAS TOTAL CARE [40700]</td>\n",
       "      <td>104304.46</td>\n",
       "      <td>NaN</td>\n",
       "      <td>16684.09</td>\n",
       "      <td>32536.01</td>\n",
       "      <td>17614.77</td>\n",
       "      <td>0</td>\n",
       "      <td>NaN</td>\n",
       "      <td>NaN</td>\n",
       "      <td>NaN</td>\n",
       "      <td>NaN</td>\n",
       "    </tr>\n",
       "    <tr>\n",
       "      <th>2192</th>\n",
       "      <td>BHMC LITTLE ROCK</td>\n",
       "      <td>DRG</td>\n",
       "      <td>MS-DRG V38 (FY 2021) 408</td>\n",
       "      <td>NaN</td>\n",
       "      <td>NaN</td>\n",
       "      <td>MS408</td>\n",
       "      <td>Biliary Tract Procedures Except Only Cholecyst...</td>\n",
       "      <td>1</td>\n",
       "      <td>ARKANSAS TOTAL CARE [40700]</td>\n",
       "      <td>108898.78</td>\n",
       "      <td>NaN</td>\n",
       "      <td>19861.16</td>\n",
       "      <td>22240.28</td>\n",
       "      <td>19861.16</td>\n",
       "      <td>0</td>\n",
       "      <td>NaN</td>\n",
       "      <td>NaN</td>\n",
       "      <td>NaN</td>\n",
       "      <td>NaN</td>\n",
       "    </tr>\n",
       "    <tr>\n",
       "      <th>2400</th>\n",
       "      <td>BHMC LITTLE ROCK</td>\n",
       "      <td>DRG</td>\n",
       "      <td>MS-DRG V38 (FY 2021) 707</td>\n",
       "      <td>NaN</td>\n",
       "      <td>NaN</td>\n",
       "      <td>MS707</td>\n",
       "      <td>Major Male Pelvic Procedures With Cc/McC</td>\n",
       "      <td>1</td>\n",
       "      <td>ARKANSAS TOTAL CARE [40700]</td>\n",
       "      <td>125925.00</td>\n",
       "      <td>NaN</td>\n",
       "      <td>11191.35</td>\n",
       "      <td>24445.20</td>\n",
       "      <td>14058.06</td>\n",
       "      <td>0</td>\n",
       "      <td>NaN</td>\n",
       "      <td>NaN</td>\n",
       "      <td>NaN</td>\n",
       "      <td>NaN</td>\n",
       "    </tr>\n",
       "    <tr>\n",
       "      <th>2462</th>\n",
       "      <td>BHMC LITTLE ROCK</td>\n",
       "      <td>DRG</td>\n",
       "      <td>MS-DRG V38 (FY 2021) 802</td>\n",
       "      <td>NaN</td>\n",
       "      <td>NaN</td>\n",
       "      <td>MS802</td>\n",
       "      <td>Other O.R. Procedures Of The Blood And Blood F...</td>\n",
       "      <td>1</td>\n",
       "      <td>ARKANSAS TOTAL CARE [40700]</td>\n",
       "      <td>146969.09</td>\n",
       "      <td>9725.00</td>\n",
       "      <td>9725.00</td>\n",
       "      <td>10204.12</td>\n",
       "      <td>10204.12</td>\n",
       "      <td>0</td>\n",
       "      <td>NaN</td>\n",
       "      <td>NaN</td>\n",
       "      <td>NaN</td>\n",
       "      <td>NaN</td>\n",
       "    </tr>\n",
       "    <tr>\n",
       "      <th>2555</th>\n",
       "      <td>BHMC LITTLE ROCK</td>\n",
       "      <td>DRG</td>\n",
       "      <td>MS-DRG V38 (FY 2021) 939</td>\n",
       "      <td>NaN</td>\n",
       "      <td>NaN</td>\n",
       "      <td>MS939</td>\n",
       "      <td>O.R. Procedures With Diagnoses Of Other Contac...</td>\n",
       "      <td>1</td>\n",
       "      <td>ARKANSAS TOTAL CARE [40700]</td>\n",
       "      <td>490685.48</td>\n",
       "      <td>NaN</td>\n",
       "      <td>7790.37</td>\n",
       "      <td>7790.37</td>\n",
       "      <td>7790.37</td>\n",
       "      <td>0</td>\n",
       "      <td>NaN</td>\n",
       "      <td>NaN</td>\n",
       "      <td>NaN</td>\n",
       "      <td>NaN</td>\n",
       "    </tr>\n",
       "    <tr>\n",
       "      <th>2565</th>\n",
       "      <td>BHMC LITTLE ROCK</td>\n",
       "      <td>DRG</td>\n",
       "      <td>MS-DRG V38 (FY 2021) 955</td>\n",
       "      <td>NaN</td>\n",
       "      <td>NaN</td>\n",
       "      <td>MS955</td>\n",
       "      <td>Craniotomy For Multiple Significant Trauma</td>\n",
       "      <td>1</td>\n",
       "      <td>ARKANSAS TOTAL CARE [40700]</td>\n",
       "      <td>104899.20</td>\n",
       "      <td>29125.00</td>\n",
       "      <td>16288.49</td>\n",
       "      <td>37078.86</td>\n",
       "      <td>16288.49</td>\n",
       "      <td>0</td>\n",
       "      <td>NaN</td>\n",
       "      <td>NaN</td>\n",
       "      <td>NaN</td>\n",
       "      <td>NaN</td>\n",
       "    </tr>\n",
       "    <tr>\n",
       "      <th>2581</th>\n",
       "      <td>BHMC LITTLE ROCK</td>\n",
       "      <td>DRG</td>\n",
       "      <td>MS-DRG V38 (FY 2021) 999</td>\n",
       "      <td>NaN</td>\n",
       "      <td>NaN</td>\n",
       "      <td>MS999</td>\n",
       "      <td>Ungroupable</td>\n",
       "      <td>1</td>\n",
       "      <td>ARKANSAS TOTAL CARE [40700]</td>\n",
       "      <td>167432.29</td>\n",
       "      <td>NaN</td>\n",
       "      <td>6315.03</td>\n",
       "      <td>17497.01</td>\n",
       "      <td>17497.01</td>\n",
       "      <td>0</td>\n",
       "      <td>NaN</td>\n",
       "      <td>NaN</td>\n",
       "      <td>NaN</td>\n",
       "      <td>NaN</td>\n",
       "    </tr>\n",
       "  </tbody>\n",
       "</table>\n",
       "</div>"
      ],
      "text/plain": [
       "              Location Code Type                      Code  NDC  Rev Code  \\\n",
       "800   BHMC LITTLE ROCK       DRG  MS-DRG V38 (FY 2021) 263  NaN       NaN   \n",
       "858   BHMC LITTLE ROCK       DRG  MS-DRG V38 (FY 2021) 344  NaN       NaN   \n",
       "934   BHMC LITTLE ROCK       DRG  MS-DRG V38 (FY 2021) 461  NaN       NaN   \n",
       "1171  BHMC LITTLE ROCK       DRG  MS-DRG V38 (FY 2021) 802  NaN       NaN   \n",
       "1264  BHMC LITTLE ROCK       DRG  MS-DRG V38 (FY 2021) 939  NaN       NaN   \n",
       "1945  BHMC LITTLE ROCK       DRG  MS-DRG V38 (FY 2021) 037  NaN       NaN   \n",
       "2091  BHMC LITTLE ROCK       DRG  MS-DRG V38 (FY 2021) 263  NaN       NaN   \n",
       "2138  BHMC LITTLE ROCK       DRG  MS-DRG V38 (FY 2021) 333  NaN       NaN   \n",
       "2149  BHMC LITTLE ROCK       DRG  MS-DRG V38 (FY 2021) 344  NaN       NaN   \n",
       "2192  BHMC LITTLE ROCK       DRG  MS-DRG V38 (FY 2021) 408  NaN       NaN   \n",
       "2400  BHMC LITTLE ROCK       DRG  MS-DRG V38 (FY 2021) 707  NaN       NaN   \n",
       "2462  BHMC LITTLE ROCK       DRG  MS-DRG V38 (FY 2021) 802  NaN       NaN   \n",
       "2555  BHMC LITTLE ROCK       DRG  MS-DRG V38 (FY 2021) 939  NaN       NaN   \n",
       "2565  BHMC LITTLE ROCK       DRG  MS-DRG V38 (FY 2021) 955  NaN       NaN   \n",
       "2581  BHMC LITTLE ROCK       DRG  MS-DRG V38 (FY 2021) 999  NaN       NaN   \n",
       "\n",
       "     Procedure                              Procedure Description  Quantity  \\\n",
       "800      MS263                        Vein Ligation And Stripping         1   \n",
       "858      MS344    Minor Small And Large Bowel Procedures With McC         1   \n",
       "934      MS461  Bilateral Or Multiple Major Joint Procedures O...         1   \n",
       "1171     MS802  Other O.R. Procedures Of The Blood And Blood F...         1   \n",
       "1264     MS939  O.R. Procedures With Diagnoses Of Other Contac...         1   \n",
       "1945     MS037                   Extracranial Procedures With McC         1   \n",
       "2091     MS263                        Vein Ligation And Stripping         1   \n",
       "2138     MS333                           Rectal Resection With Cc         1   \n",
       "2149     MS344    Minor Small And Large Bowel Procedures With McC         1   \n",
       "2192     MS408  Biliary Tract Procedures Except Only Cholecyst...         1   \n",
       "2400     MS707           Major Male Pelvic Procedures With Cc/McC         1   \n",
       "2462     MS802  Other O.R. Procedures Of The Blood And Blood F...         1   \n",
       "2555     MS939  O.R. Procedures With Diagnoses Of Other Contac...         1   \n",
       "2565     MS955         Craniotomy For Multiple Significant Trauma         1   \n",
       "2581     MS999                                        Ungroupable         1   \n",
       "\n",
       "                            Payer  IP Charge  IP Expected Reimbursement  \\\n",
       "800               ALLWELL [15100]  120026.89                        NaN   \n",
       "858               ALLWELL [15100]  102435.46                   16684.09   \n",
       "934               ALLWELL [15100]  121126.29                        NaN   \n",
       "1171              ALLWELL [15100]  143667.09                        NaN   \n",
       "1264              ALLWELL [15100]  480809.48                        NaN   \n",
       "1945  ARKANSAS TOTAL CARE [40700]  123035.47                        NaN   \n",
       "2091  ARKANSAS TOTAL CARE [40700]  121981.89                        NaN   \n",
       "2138  ARKANSAS TOTAL CARE [40700]  128929.41                        NaN   \n",
       "2149  ARKANSAS TOTAL CARE [40700]  104304.46                        NaN   \n",
       "2192  ARKANSAS TOTAL CARE [40700]  108898.78                        NaN   \n",
       "2400  ARKANSAS TOTAL CARE [40700]  125925.00                        NaN   \n",
       "2462  ARKANSAS TOTAL CARE [40700]  146969.09                    9725.00   \n",
       "2555  ARKANSAS TOTAL CARE [40700]  490685.48                        NaN   \n",
       "2565  ARKANSAS TOTAL CARE [40700]  104899.20                   29125.00   \n",
       "2581  ARKANSAS TOTAL CARE [40700]  167432.29                        NaN   \n",
       "\n",
       "      MIN_IP_XR  MAX_IP_XR  IP Cash Price  OP Charge  \\\n",
       "800         NaN        NaN            NaN          0   \n",
       "858    16684.09   32536.01       17614.77          0   \n",
       "934     8741.25    9225.00            NaN          0   \n",
       "1171    9725.00   10204.12       10204.12          0   \n",
       "1264    7790.37    7790.37        7790.37          0   \n",
       "1945   17816.08   39275.00       17816.08          0   \n",
       "2091        NaN        NaN            NaN          0   \n",
       "2138   12824.58   26704.23       15975.34          0   \n",
       "2149   16684.09   32536.01       17614.77          0   \n",
       "2192   19861.16   22240.28       19861.16          0   \n",
       "2400   11191.35   24445.20       14058.06          0   \n",
       "2462    9725.00   10204.12       10204.12          0   \n",
       "2555    7790.37    7790.37        7790.37          0   \n",
       "2565   16288.49   37078.86       16288.49          0   \n",
       "2581    6315.03   17497.01       17497.01          0   \n",
       "\n",
       "      OP Expected Reimbursement  MIN_OP_XR  MAX_OP_XR  OP Cash Price  \n",
       "800                         NaN        NaN        NaN            NaN  \n",
       "858                         NaN        NaN        NaN            NaN  \n",
       "934                         NaN        NaN        NaN            NaN  \n",
       "1171                        NaN        NaN        NaN            NaN  \n",
       "1264                        NaN        NaN        NaN            NaN  \n",
       "1945                        NaN        NaN        NaN            NaN  \n",
       "2091                        NaN        NaN        NaN            NaN  \n",
       "2138                        NaN        NaN        NaN            NaN  \n",
       "2149                        NaN        NaN        NaN            NaN  \n",
       "2192                        NaN        NaN        NaN            NaN  \n",
       "2400                        NaN        NaN        NaN            NaN  \n",
       "2462                        NaN        NaN        NaN            NaN  \n",
       "2555                        NaN        NaN        NaN            NaN  \n",
       "2565                        NaN        NaN        NaN            NaN  \n",
       "2581                        NaN        NaN        NaN            NaN  "
      ]
     },
     "execution_count": 7,
     "metadata": {},
     "output_type": "execute_result"
    }
   ],
   "source": [
    "high_cost_filter = data['IP Charge'] > 100000\n",
    "data.loc[high_cost_filter]"
   ]
  },
  {
   "cell_type": "markdown",
   "metadata": {},
   "source": [
    "### Question:\n",
    "\n",
    "**What do you observe from the histograms above?**"
   ]
  },
  {
   "cell_type": "markdown",
   "metadata": {},
   "source": [
    "### The IP cash price is alot lower than IP charge price. \n"
   ]
  },
  {
   "cell_type": "markdown",
   "metadata": {},
   "source": [
    "---\n",
    "\n",
    "### 41.2 Plotting a KDE instead\n",
    "\n",
    "Instead of a historgam, let's plot overlapping [KDEs](https://pandas.pydata.org/docs/reference/api/pandas.DataFrame.plot.kde.html)."
   ]
  },
  {
   "cell_type": "code",
   "execution_count": 8,
   "metadata": {},
   "outputs": [
    {
     "data": {
      "text/plain": [
       "(0.0, 40000.0)"
      ]
     },
     "execution_count": 8,
     "metadata": {},
     "output_type": "execute_result"
    },
    {
     "data": {
      "image/png": "[encoded data removed]",
      "text/plain": [
       "<Figure size 432x288 with 1 Axes>"
      ]
     },
     "metadata": {
      "needs_background": "light"
     },
     "output_type": "display_data"
    }
   ],
   "source": [
    "graph = data[['IP Cash Price','IP Charge','IP Expected Reimbursement']].plot.kde()\n",
    "graph.set_xlim(0, 40000)"
   ]
  },
  {
   "cell_type": "markdown",
   "metadata": {},
   "source": [
    "### Question:\n",
    "\n",
    "If I told you what these values represent, what conclusions could you draw about the pattern?\n",
    "* IP Cash Price is the amount you would pay on your own without using insurance\n",
    "* IP Charge is the maximum amount for which the hospital says it can submit a bill to an insurance company\n",
    "* IP Expected Reimbursement is the amount that the hospital believes it is contracted to receive in payment from an insurance company"
   ]
  },
  {
   "cell_type": "markdown",
   "metadata": {},
   "source": [
    "### The Kernal Density Estimation is a non-parametric way to estimate the probability density function of a random variable.  The variables in this plot are IP Cash Price, IP charge, and IP Expected Reimbursement :\n",
    "\n",
    "The IP Cash Price has the highest density but the lowest price. IP Charge and IP Expected Reimbursement are almost flip flopped from each other.  When the density is higher in the IP Expected Reimbursement, the density is lower for the IP Charge. The IP Charge and the IP Expected Reimursement are equal at 20,000 and a density of a little higher than 0.00002.  The IP Cash Price has a lower price and happens most of the time.  It yields the highest density.  Both IP Charge and IP Expected Reimbusement are over half the density of IP Cash Price.  IP Expected Reimubursement has a higher price when the density is higher. \n",
    "\n",
    "\n"
   ]
  },
  {
   "cell_type": "markdown",
   "metadata": {},
   "source": [
    "---\n",
    "\n",
    "### 41.3 Creating a new set of series\n",
    "\n",
    "In order to understand how this data varies across different payers, we have to create new data series that are based on the payer information.  In the data, we have a column called **Payer** that holds this information.\n",
    "\n",
    "We can use the Pandas [groupby()](https://pandas.pydata.org/docs/reference/api/pandas.DataFrame.groupby.html) function to create groupings based on Payer and then plot kde based on those groupings.  When [plotting a Pandas groupby result](https://pandas.pydata.org/pandas-docs/version/0.16.2/generated/pandas.core.groupby.DataFrameGroupBy.plot.html), the options are different than plotting a dataframe."
   ]
  },
  {
   "cell_type": "code",
   "execution_count": 9,
   "metadata": {},
   "outputs": [
    {
     "data": {
      "text/plain": [
       "ARKANSAS TOTAL CARE [40700]          650\n",
       "ALLWELL [15100]                      650\n",
       "MULTIPLAN                            641\n",
       "AETNA [65000]                        641\n",
       "HEALTHSCOPE [95700]                  641\n",
       "AR BLUE CROSS BLUE SHIELD [25001]    641\n",
       "Name: Payer, dtype: int64"
      ]
     },
     "execution_count": 9,
     "metadata": {},
     "output_type": "execute_result"
    }
   ],
   "source": [
    "data['Payer'].value_counts()"
   ]
  },
  {
   "cell_type": "code",
   "execution_count": 10,
   "metadata": {},
   "outputs": [
    {
     "data": {
      "text/plain": [
       "Payer\n",
       "AETNA [65000]                        372\n",
       "ALLWELL [15100]                      519\n",
       "AR BLUE CROSS BLUE SHIELD [25001]    450\n",
       "ARKANSAS TOTAL CARE [40700]          404\n",
       "HEALTHSCOPE [95700]                  641\n",
       "MULTIPLAN                            641\n",
       "Name: IP Expected Reimbursement, dtype: int64"
      ]
     },
     "execution_count": 10,
     "metadata": {},
     "output_type": "execute_result"
    }
   ],
   "source": [
    "data.groupby(['Payer'])['IP Expected Reimbursement'].count()"
   ]
  },
  {
   "cell_type": "code",
   "execution_count": 11,
   "metadata": {},
   "outputs": [
    {
     "data": {
      "text/plain": [
       "Payer\n",
       "AETNA [65000]                        AxesSubplot(0.125,0.125;0.775x0.755)\n",
       "ALLWELL [15100]                      AxesSubplot(0.125,0.125;0.775x0.755)\n",
       "AR BLUE CROSS BLUE SHIELD [25001]    AxesSubplot(0.125,0.125;0.775x0.755)\n",
       "ARKANSAS TOTAL CARE [40700]          AxesSubplot(0.125,0.125;0.775x0.755)\n",
       "HEALTHSCOPE [95700]                  AxesSubplot(0.125,0.125;0.775x0.755)\n",
       "MULTIPLAN                            AxesSubplot(0.125,0.125;0.775x0.755)\n",
       "Name: IP Expected Reimbursement, dtype: object"
      ]
     },
     "execution_count": 11,
     "metadata": {},
     "output_type": "execute_result"
    },
    {
     "data": {
      "image/png": "[encoded data removed]",
      "text/plain": [
       "<Figure size 1224x612 with 1 Axes>"
      ]
     },
     "metadata": {
      "needs_background": "light"
     },
     "output_type": "display_data"
    }
   ],
   "source": [
    "data.groupby(['Payer'])['IP Expected Reimbursement'].plot.kde(\n",
    "    xlim=(0,40000),\n",
    "    legend=True,\n",
    "    figsize=(17,8.5)\n",
    ")\n"
   ]
  },
  {
   "cell_type": "markdown",
   "metadata": {},
   "source": [
    "### Question:\n",
    "\n",
    "Remember what this KDE represents. The x-axis is the price being reimbursement for a particular service and the y-axis represents how many different records in the input fall into that price range.  So, the higher the line at any particular x value, the more records are there.\n",
    "\n",
    "If the line is higher the further left you go, that means most prices are lower.  If the peak of the line is more the the right, then the typical price is higher.\n",
    "\n",
    "* What do you observe about the patterns in reimbursement above?\n",
    "* What does that tell you about these particular plans?\n"
   ]
  },
  {
   "cell_type": "code",
   "execution_count": 12,
   "metadata": {},
   "outputs": [
    {
     "ename": "NameError",
     "evalue": "name 'names' is not defined",
     "output_type": "error",
     "traceback": [
      "\u001b[0;31m---------------------------------------------------------------------------\u001b[0m",
      "\u001b[0;31mNameError\u001b[0m                                 Traceback (most recent call last)",
      "\u001b[0;32m<ipython-input-12-fa5d6a2e4574>\u001b[0m in \u001b[0;36m<module>\u001b[0;34m\u001b[0m\n\u001b[0;32m----> 1\u001b[0;31m \u001b[0mpd\u001b[0m\u001b[0;34m.\u001b[0m\u001b[0mDataFrame\u001b[0m\u001b[0;34m(\u001b[0m\u001b[0mnames\u001b[0m\u001b[0;34m,\u001b[0m \u001b[0mcolumns\u001b[0m\u001b[0;34m=\u001b[0m\u001b[0;34m[\u001b[0m\u001b[0;34m'first'\u001b[0m\u001b[0;34m,\u001b[0m\u001b[0;34m'last'\u001b[0m\u001b[0;34m,\u001b[0m\u001b[0;34m'middle'\u001b[0m\u001b[0;34m]\u001b[0m\u001b[0;34m)\u001b[0m\u001b[0;34m\u001b[0m\u001b[0;34m\u001b[0m\u001b[0m\n\u001b[0m",
      "\u001b[0;31mNameError\u001b[0m: name 'names' is not defined"
     ]
    }
   ],
   "source": [
    "pd.DataFrame(names, columns=['first','last','middle'])"
   ]
  },
  {
   "cell_type": "markdown",
   "metadata": {},
   "source": [
    "### ARKANSAS TOTAL CARE has the most different types of records that falls into the lowest price reimbursement for a particular service.  ARKANSAS TOTAL CARE also has a steep decline and then flattens out.  ALLWELL and AR BLUE CROSS BLUE SHIELD has the next most different types of records that receives higher reimbursement than ARKANSAS TOTAL CARE.  AETNA AND HEALTHSCOPE both have similiar amount of records and higher reimbursement.  ARKANSAS TOTAL CARE, ALLWELL and ARKANSAS BLUE CROSS BLUE SHIELD all have the least amount of records with the highest reimbursement.  They are all pretty equal at $30,000- $40,000.  So this would say that these insurances pay less with the least amount of records.   \n",
    "Double-click this cell to edit and provide your response\n"
   ]
  },
  {
   "cell_type": "markdown",
   "metadata": {},
   "source": [
    "---\n",
    "\n",
    "### 41.4 Seeing if there's any correlation\n",
    "\n",
    "So, we know that there are cash prices and insurance paid prices.  How strongly correlated are those amounts?\n",
    "\n",
    "We can use a scatterplot with one value on the x axis and the other on the y axis to do a simple visualization of this."
   ]
  },
  {
   "cell_type": "code",
   "execution_count": null,
   "metadata": {},
   "outputs": [],
   "source": [
    "data.plot.scatter(x='IP Charge', y='IP Expected Reimbursement', color='DarkRed', label='Reimbursement')"
   ]
  },
  {
   "cell_type": "code",
   "execution_count": null,
   "metadata": {},
   "outputs": [],
   "source": [
    "groups = data.groupby(['Payer'])\n",
    "plt.figure(figsize=(17,11))\n",
    "\n",
    "for i, (payer, prices) in enumerate(groups):\n",
    "    ax = plt.subplot(3,3, i+1)\n",
    "    prices.plot.scatter(x='IP Cash Price',y='IP Expected Reimbursement',ax=ax)\n",
    "    ax.set_title(payer)\n",
    "    ax.set_xlim(0,20000)\n",
    "    ax.set_ylim(0,80000)\n",
    "\n",
    "plt.tight_layout()\n",
    "plt.show()"
   ]
  },
  {
   "cell_type": "markdown",
   "metadata": {},
   "source": [
    "### HEALTHSCOPE AND MULTIPLAN HAVE THE BEST DATA.  The scatter plot for the two are almost completely equal.  These two yield the highest coorelation between IP Expected Reimbursement and IP Cash Price. ALLWELL, AR BLUE CROSS BLUE SHIELD AND ARKANSAS TOTAL CARE have medium to high coorelation.  The one with poorest coorelation is AETNA.\n",
    "Double-click this cell to edit and provide your response\n"
   ]
  },
  {
   "cell_type": "markdown",
   "metadata": {},
   "source": [
    "---\n",
    "\n",
    "### 41.5 Find Something of Your Own\n",
    "\n",
    "What data are you interested in?  To earn full credit this week, you'll need to do the following:\n",
    "1. Bring in some other data that you're interested in visualizing.  You can upload the file to your project directory and work with it here.\n",
    "2. Read that data in using Pandas\n",
    "3. Produce at least two different visualizations of that data\n",
    "4. Write a paragraph that describes your observations of the trends in that data\n",
    "\n",
    "If you're struggling to find data to use, feel free to reach out to me.  I can make some recommendations on data sets with interesting trends in them.\n",
    "\n",
    "[Here is a helpful reference for plotting in Pandas.](https://pandas.pydata.org/pandas-docs/stable/user_guide/visualization.html)"
   ]
  },
  {
   "cell_type": "code",
   "execution_count": null,
   "metadata": {},
   "outputs": [],
   "source": [
    "# Your code here to load data...\n",
    "import pandas as pd\n",
    "import matplotlib.pyplot as plt\n",
    "import numpy as np "
   ]
  },
  {
   "cell_type": "code",
   "execution_count": null,
   "metadata": {},
   "outputs": [],
   "source": [
    "hospital_data=pd.read_csv(\"hospital_data.csv\")"
   ]
  },
  {
   "cell_type": "code",
   "execution_count": null,
   "metadata": {},
   "outputs": [],
   "source": [
    "hospital_data.shape"
   ]
  },
  {
   "cell_type": "code",
   "execution_count": null,
   "metadata": {},
   "outputs": [],
   "source": [
    "hospital_data.columns"
   ]
  },
  {
   "cell_type": "code",
   "execution_count": null,
   "metadata": {},
   "outputs": [],
   "source": [
    "hospital_data.head()"
   ]
  },
  {
   "cell_type": "code",
   "execution_count": null,
   "metadata": {},
   "outputs": [],
   "source": [
    "# Your code here to do a first visualization\n",
    "hospital_data.plot.scatter(x= 'Infections Observed', y= 'Infections Predicted', color= 'red', label= 'Infections Observed vs Infections Predicted') "
   ]
  },
  {
   "cell_type": "code",
   "execution_count": null,
   "metadata": {},
   "outputs": [],
   "source": [
    "import pandas as pd\n",
    "data= pd.read_csv('hospital_data.csv', quotechar= '\"')\n",
    "data.shape\n"
   ]
  },
  {
   "cell_type": "code",
   "execution_count": null,
   "metadata": {},
   "outputs": [],
   "source": [
    "data[0:150]"
   ]
  },
  {
   "cell_type": "code",
   "execution_count": null,
   "metadata": {},
   "outputs": [],
   "source": [
    "Hospital = data[\n",
    "    (data['Indicator Name'] == 'Neonatal') &\n",
    "    (data['Year'] == 2016 )\n",
    "]"
   ]
  },
  {
   "cell_type": "code",
   "execution_count": null,
   "metadata": {},
   "outputs": [],
   "source": [
    "data[0:10]"
   ]
  },
  {
   "cell_type": "code",
   "execution_count": null,
   "metadata": {},
   "outputs": [],
   "source": [
    "data['Infections Observed'].hist()"
   ]
  },
  {
   "cell_type": "code",
   "execution_count": null,
   "metadata": {},
   "outputs": [],
   "source": [
    "data['Year'].hist()"
   ]
  },
  {
   "cell_type": "markdown",
   "metadata": {},
   "source": [
    "### Observations #1\n",
    "\n",
    "_Double-click this text and then edit it to put in your observations_\n",
    "This had poor coorelation between observed infections than predicited infections.  The hospital needs to crack down on infections and how to prevent them.  They need to hae less obsered hospital acquired infection.  This plot needs to have a high coorelation of less hospital acquired infections and low predicted infections. "
   ]
  },
  {
   "cell_type": "markdown",
   "metadata": {},
   "source": [
    "### Observations #2\n",
    "I'm not sure what I did wrong on the histogram.  I got no information whatsoever.....I kept playing around with this.  Is this correct, There was the most Infections observed in 2018 and the least amount in 2008; the trend would be getting worse over the years, but is there more procedures being done per year.  I guess I would need to do procedures per year, per infections observed during that year to see really if there were more infections every year. \n",
    "_Double-click this text and then edit it to put in your observations_"
   ]
  },
  {
   "cell_type": "markdown",
   "metadata": {},
   "source": [
    "\n",
    "\n",
    "---\n",
    "\n",
    "\n",
    "\n",
    "## Submitting Your Work\n",
    "\n",
    "As usual, submit your work using the git command line"
   ]
  },
  {
   "cell_type": "code",
   "execution_count": null,
   "metadata": {},
   "outputs": [],
   "source": []
  },
  {
   "cell_type": "code",
   "execution_count": null,
   "metadata": {},
   "outputs": [],
   "source": []
  },
  {
   "cell_type": "code",
   "execution_count": null,
   "metadata": {},
   "outputs": [],
   "source": []
  },
  {
   "cell_type": "code",
   "execution_count": null,
   "metadata": {},
   "outputs": [],
   "source": []
  }
 ],
 "metadata": {
  "kernelspec": {
   "display_name": "Python 3",
   "language": "python",
   "name": "python3"
  },
  "language_info": {
   "codemirror_mode": {
    "name": "ipython",
    "version": 3
   },
   "file_extension": ".py",
   "mimetype": "text/x-python",
   "name": "python",
   "nbconvert_exporter": "python",
   "pygments_lexer": "ipython3",
   "version": "3.6.7"
  }
 },
 "nbformat": 4,
 "nbformat_minor": 4
}
