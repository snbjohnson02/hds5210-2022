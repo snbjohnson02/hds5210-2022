{
 "cells": [
  {
   "cell_type": "markdown",
   "metadata": {
    "nbgrader": {
     "grade": false,
     "grade_id": "intro",
     "locked": true,
     "schema_version": 1,
     "solution": false
    }
   },
   "source": [
    "# Working with multiple data sets\n",
    "\n",
    "There are two data files that we'll be working with for this week's assignment.  They are described below.  Load those data files in with Pandas and then work to answering each of the questions below.\n",
    "\n",
    "## npidata.csv\n",
    "\n",
    "This file is basic information about every healthcare provider in the US.  It has one row for each NPI (National Provider Identifier).  It contains information such as the provider's name and address.\n",
    "\n",
    "\n",
    "## cmsYYYY.csv\n",
    "\n",
    "These are files about what kinds of procedures and patients providers in the US are serving under CMS programs, Medicare and Medicaid.  Each contains various statistics about providers over the course of a year.  There are three of these, for the years 2014, 2015, and 2016.  These files, however, don't contain information about the provider such as where the provider is located.\n",
    "\n",
    "## Our Goals\n",
    "\n",
    "For this assignment, we're going to want to compute some statistics based on the data in the **cms** files, but aggregate that data based on information in the **npidata** file.  As in last week's assignment, you'll need to store your answers in a variable called `answer` at the end of each step."
   ]
  },
  {
   "cell_type": "code",
   "execution_count": null,
   "metadata": {
    "nbgrader": {
     "grade": false,
     "grade_id": "import",
     "locked": true,
     "schema_version": 1,
     "solution": false
    }
   },
   "outputs": [],
   "source": [
    "import pandas as pd"
   ]
  },
  {
   "cell_type": "markdown",
   "metadata": {
    "nbgrader": {
     "grade": false,
     "grade_id": "01-intro",
     "locked": true,
     "schema_version": 1,
     "solution": false
    }
   },
   "source": [
    "## Part 1\n",
    "\n",
    "In this first step, we'll need to merge together all of the **cms** files into a single dataframe.  Be careful that these files might not be identical, so you'll have to look a little bit to figure out how to merge them.\n",
    "\n",
    "As you are merging them, make sure that you retain information about which file (i.e. which year) the data came from.  Call that new columns `year`.\n",
    "\n",
    "In your `answer` variable, provide a complete data frame that contains all of the rows and columns from the **cms** files, plus an additional column to store the year/file that particular row came from.\n",
    "\n",
    "The assertion tests will give you a good idea as to if you're merging the files correctly."
   ]
  },
  {
   "cell_type": "code",
   "execution_count": null,
   "metadata": {
    "nbgrader": {
     "grade": false,
     "grade_id": "01-solution",
     "locked": false,
     "schema_version": 1,
     "solution": true
    }
   },
   "outputs": [],
   "source": [
    "answer = None\n",
    "# Assess CMS files and create column for the years 2014,2015,2016\n",
    "cms2014 = pd.read_csv('/data/cms2014.csv')\n",
    "cms2014.columns\n",
    "cms2014['year']=2014\n",
    "cms2015 = pd.read_csv('/data/cms2015.csv')\n",
    "cms2015['year']=2015\n",
    "cms2016 = pd.read_csv('/data/cms2016.csv')\n",
    "cms2016['year'] = 2016\n",
    "\n",
    "\n",
    "### Solution"
   ]
  },
  {
   "cell_type": "code",
   "execution_count": null,
   "metadata": {},
   "outputs": [],
   "source": [
    "print(cms2014.shape)\n",
    "print(cms2015.shape)\n",
    "print(cms2016.shape)"
   ]
  },
  {
   "cell_type": "code",
   "execution_count": null,
   "metadata": {},
   "outputs": [],
   "source": [
    "# Make sure columns match between years 2014 and 2015 and then years 2015 and 2016\n",
    "cms2014.columns==cms2015.columns"
   ]
  },
  {
   "cell_type": "code",
   "execution_count": null,
   "metadata": {},
   "outputs": [],
   "source": [
    "# Make sure columns match between years 2015 and 2016 \n",
    "cms2016.columns==cms2015.columns"
   ]
  },
  {
   "cell_type": "code",
   "execution_count": null,
   "metadata": {},
   "outputs": [],
   "source": [
    "# 2016 columns\n",
    "cms2016.columns"
   ]
  },
  {
   "cell_type": "code",
   "execution_count": null,
   "metadata": {},
   "outputs": [],
   "source": [
    "#Column names are the same but some are lower case and some are capita; change everything to lower so everything is the same\n",
    "cms2016.columns = cms2016.columns.str.strip().str.lower()\n",
    "cms2015.columns = cms2015.columns.str.strip().str.lower()\n",
    "cms2014.columns = cms2014.columns.str.strip().str.lower()"
   ]
  },
  {
   "cell_type": "code",
   "execution_count": null,
   "metadata": {},
   "outputs": [],
   "source": [
    "cms2015.columns == cms2016.columns"
   ]
  },
  {
   "cell_type": "code",
   "execution_count": null,
   "metadata": {},
   "outputs": [],
   "source": [
    "# Add all the columns together by append \n",
    "cms=cms2014.append(cms2015).append(cms2016)"
   ]
  },
  {
   "cell_type": "code",
   "execution_count": null,
   "metadata": {},
   "outputs": [],
   "source": [
    "cms.shape"
   ]
  },
  {
   "cell_type": "code",
   "execution_count": null,
   "metadata": {},
   "outputs": [],
   "source": [
    "# Create the answer object and assign the cms dataframe to it\n",
    "answer = cms"
   ]
  },
  {
   "cell_type": "code",
   "execution_count": null,
   "metadata": {
    "nbgrader": {
     "grade": true,
     "grade_id": "01-tests",
     "locked": true,
     "points": 5,
     "schema_version": 1,
     "solution": false
    }
   },
   "outputs": [],
   "source": [
    "# Assert Checks\n",
    "assert(answer.shape == (193862, 60))\n",
    "assert(list(answer['year'].unique()) == [2014,2015,2016])\n",
    "assert(set(answer.columns.str.lower()) == set(['year', 'nbr', 'npi', 'provider_type',\n",
    "       'medicare_participation_indicator', 'number_of_hcpcs', 'total#_services',\n",
    "       'total_unique_benes', 'total_submitted_chrg_amt',\n",
    "       'total_medicare_allowed_amt', 'total_medicare_payment_amt',\n",
    "       'total_medicare_stnd_amt', 'drug_suppress_indicator',\n",
    "       'number_of_drug_hcpcs', 'total_drug_services',\n",
    "       'total_drug_unique_benes', 'total_drug_submitted_chrg_amt',\n",
    "       'total_drug_medicare_allowed_amt', 'total_drug_medicare_payment_amt',\n",
    "       'total_drug_medicare_stnd_amt', 'med_suppress_indicator',\n",
    "       'number_of_med_hcpcs', 'total_med_services', 'total_med_unique_benes',\n",
    "       'total_med_submitted_chrg_amt', 'total_med_medicare_allowed_amt',\n",
    "       'total_med_medicare_payment_amt', 'total_med_medicare_stnd_amt',\n",
    "       'beneficiary_average_age', 'beneficiary_age_less_65_count',\n",
    "       'beneficiary_age_65_74_count', 'beneficiary_age_75_84_count',\n",
    "       'beneficiary_age_greater_84_count', 'beneficiary_female_count',\n",
    "       'beneficiary_male_count', 'beneficiary_race_white_count',\n",
    "       'beneficiary_race_black_count', 'beneficiary_race_api_count',\n",
    "       'beneficiary_race_hispanic_count', 'beneficiary_race_natind_count',\n",
    "       'beneficiary_race_other_count', 'beneficiary_nondual_count',\n",
    "       'beneficiary_dual_count', 'beneficiary_cc_afib_percent',\n",
    "       'beneficiary_cc_alzrdsd_percent', 'beneficiary_cc_asthma_percent',\n",
    "       'beneficiary_cc_cancer_percent', 'beneficiary_cc_chf_percent',\n",
    "       'beneficiary_cc_ckd_percent', 'beneficiary_cc_copd_percent',\n",
    "       'beneficiary_cc_depr_percent', 'beneficiary_cc_diab_percent',\n",
    "       'beneficiary_cc_hyperl_percent', 'beneficiary_cc_hypert_percent',\n",
    "       'beneficiary_cc_ihd_percent', 'beneficiary_cc_ost_percent',\n",
    "       'beneficiary_cc_raoa_percent', 'beneficiary_cc_schiot_percent',\n",
    "       'beneficiary_cc_strk_percent', 'beneficiary_average_risk_score']))"
   ]
  },
  {
   "cell_type": "markdown",
   "metadata": {
    "nbgrader": {
     "grade": false,
     "grade_id": "02-intro",
     "locked": true,
     "schema_version": 1,
     "solution": false
    }
   },
   "source": [
    "## Part 2\n",
    "\n",
    "In this next part, we're going to join the **cms** data with the provider information in the **/data/npidata.csv** file.  In this join, we don't want to lose any records from the **cms** files, even if no matching provider exists in the **npidata** file.  However, we don't care about any providers from the **npidata** file that don't have records in the **cms** files.  Those providers can be ignored.\n",
    "\n",
    "Join the data files together to create one unified data frame called `answer`.  This dataframe should have all the columns from both **cms** and **npidata** files, joined together using the `npi` column.  \n",
    "\n",
    "Note that `npi` is unique in the **npidata** file."
   ]
  },
  {
   "cell_type": "code",
   "execution_count": null,
   "metadata": {
    "nbgrader": {
     "grade": false,
     "grade_id": "02-solution",
     "locked": false,
     "schema_version": 1,
     "solution": true
    }
   },
   "outputs": [],
   "source": [
    "# Read the csv file \n",
    "answer = None\n",
    "npi= pd.read_csv('/data/npidata.csv', float_precision='round_trip')\n",
    "npi.head()\n",
    "\n",
    "### SOLUTION\n",
    "\n"
   ]
  },
  {
   "cell_type": "code",
   "execution_count": null,
   "metadata": {},
   "outputs": [],
   "source": [
    "cms.shape "
   ]
  },
  {
   "cell_type": "code",
   "execution_count": null,
   "metadata": {},
   "outputs": [],
   "source": [
    "# Should create a year for 2014,2015,2016\n",
    "cms.year.unique()"
   ]
  },
  {
   "cell_type": "code",
   "execution_count": null,
   "metadata": {},
   "outputs": [],
   "source": [
    "#Create Matching key field\n",
    "npi['npi'] = npi. NPI"
   ]
  },
  {
   "cell_type": "code",
   "execution_count": null,
   "metadata": {},
   "outputs": [],
   "source": [
    "pd.options.display.float_format = '{:.10f}'.format"
   ]
  },
  {
   "cell_type": "code",
   "execution_count": null,
   "metadata": {},
   "outputs": [],
   "source": [
    "# Left join using merge so that all cms records and npi records that match are shown\n",
    "answer = cms.merge(npi, on = ['npi'], how = 'left')"
   ]
  },
  {
   "cell_type": "code",
   "execution_count": null,
   "metadata": {},
   "outputs": [],
   "source": [
    "# answer shape\n",
    "answer.shape "
   ]
  },
  {
   "cell_type": "code",
   "execution_count": null,
   "metadata": {},
   "outputs": [],
   "source": [
    "# Coserve Memory\n",
    "del npi\n",
    "del cms\n",
    "import gc "
   ]
  },
  {
   "cell_type": "code",
   "execution_count": null,
   "metadata": {},
   "outputs": [],
   "source": [
    "gc.collect()"
   ]
  },
  {
   "cell_type": "code",
   "execution_count": null,
   "metadata": {},
   "outputs": [],
   "source": [
    "import pandas as pd "
   ]
  },
  {
   "cell_type": "code",
   "execution_count": null,
   "metadata": {
    "nbgrader": {
     "grade": true,
     "grade_id": "02-tests",
     "locked": true,
     "points": 5,
     "schema_version": 1,
     "solution": false
    }
   },
   "outputs": [],
   "source": [
    "import numpy\n",
    "assert(answer.shape == (193862, 103))\n",
    "assert(list(answer['Provider Business Mailing Address State Name'].unique()) == ['IL','MO',numpy.nan,'WY'])\n",
    "assert(list(answer.groupby('Provider Business Mailing Address State Name').NPI.count()) == [111520, 53366, 4805])"
   ]
  },
  {
   "cell_type": "markdown",
   "metadata": {
    "nbgrader": {
     "grade": false,
     "grade_id": "03-intro",
     "locked": true,
     "schema_version": 1,
     "solution": false
    }
   },
   "source": [
    "## Part 3\n",
    "\n",
    "If you did everything right above, you'll notice that grouping by a column with NaN in it will cause some rows to disappear from the aggregation test.  So, let's create a new column called `'State'` that has the same value as whatever is in the `'Provider Business Mailing Address State Name'` column or a value of `'XX'` if there is no state information.\n",
    "\n",
    "Set `answer` to be your final data frame with the new `'State'` column added."
   ]
  },
  {
   "cell_type": "code",
   "execution_count": null,
   "metadata": {
    "nbgrader": {
     "grade": false,
     "grade_id": "03-solution",
     "locked": false,
     "schema_version": 1,
     "solution": true
    }
   },
   "outputs": [],
   "source": [
    "# Creating a new column 'State' and creating a column called 'XX' if it doesn't have any information \n",
    "\n",
    "\n",
    "answer.loc[answer['Provider Business Mailing Address State Name'].isnull() == True, 'State'] = 'XX'\n",
    "answer.loc[answer['Provider Business Mailing Address State Name'].isnull() == False, 'State'] = answer['Provider Business Mailing Address State Name']\n",
    "\n",
    "### SOLUTION\n",
    "\n"
   ]
  },
  {
   "cell_type": "code",
   "execution_count": null,
   "metadata": {},
   "outputs": [],
   "source": [
    "# Describe total services\n",
    "answer['total_services'].describe()"
   ]
  },
  {
   "cell_type": "code",
   "execution_count": null,
   "metadata": {},
   "outputs": [],
   "source": [
    "answer=pd.pivot_table(answer, values= 'total_services', index='State', columns='year', aggfunc= 'sum')"
   ]
  },
  {
   "cell_type": "code",
   "execution_count": null,
   "metadata": {},
   "outputs": [],
   "source": [
    "print(answer)"
   ]
  },
  {
   "cell_type": "code",
   "execution_count": null,
   "metadata": {},
   "outputs": [],
   "source": [
    "pd.options.display.float_format = '{:.7f}'.format\n",
    "answer.sum()"
   ]
  },
  {
   "cell_type": "code",
   "execution_count": null,
   "metadata": {},
   "outputs": [],
   "source": [
    "answer.head()"
   ]
  },
  {
   "cell_type": "code",
   "execution_count": null,
   "metadata": {
    "nbgrader": {
     "grade": true,
     "grade_id": "03-tests",
     "locked": true,
     "points": 5,
     "schema_version": 1,
     "solution": false
    }
   },
   "outputs": [],
   "source": [
    "assert(list(answer.groupby('State').npi.count()) == [111520, 53366, 4805, 24171])\n",
    "assert(answer.shape == (193862, 104))"
   ]
  },
  {
   "cell_type": "markdown",
   "metadata": {
    "nbgrader": {
     "grade": false,
     "grade_id": "04-intro",
     "locked": true,
     "schema_version": 1,
     "solution": false
    }
   },
   "source": [
    "## Part 4\n",
    "\n",
    "Next, let's summarize the data by year and by State.  Create a pivot table that contains one row for each state and one column for each year.  Within the pivot table, put a sum of total services as the values.\n",
    "\n",
    "Assign `answer` to be that resulting pivot table.  In the tests, I'm going to plot a bar chart of your pivot table."
   ]
  },
  {
   "cell_type": "code",
   "execution_count": null,
   "metadata": {
    "nbgrader": {
     "grade": false,
     "grade_id": "04-solution",
     "locked": false,
     "schema_version": 1,
     "solution": true
    }
   },
   "outputs": [],
   "source": [
    "# Display output inline by executing code\n",
    "\n",
    "%matplotlib inline\n",
    "\n",
    "\n",
    "### SOLUTION\n"
   ]
  },
  {
   "cell_type": "code",
   "execution_count": null,
   "metadata": {
    "nbgrader": {
     "grade": true,
     "grade_id": "04-tests",
     "locked": true,
     "points": 5,
     "schema_version": 1,
     "solution": false
    }
   },
   "outputs": [],
   "source": [
    "assert(answer.shape == (4,3))\n",
    "assert(answer.sum().sum() == 519185664.6999999)\n",
    "assert(answer[2016].sum() == 176596933.80000004)\n",
    "assert(answer.loc['WY'].sum() == 10892707.4)"
   ]
  },
  {
   "cell_type": "code",
   "execution_count": null,
   "metadata": {},
   "outputs": [],
   "source": [
    "%matplotlib inline\n",
    "answer.plot.bar()"
   ]
  },
  {
   "cell_type": "markdown",
   "metadata": {},
   "source": [
    "## Submit your work as usual"
   ]
  },
  {
   "cell_type": "code",
   "execution_count": null,
   "metadata": {},
   "outputs": [],
   "source": []
  },
  {
   "cell_type": "code",
   "execution_count": null,
   "metadata": {},
   "outputs": [],
   "source": []
  }
 ],
 "metadata": {
  "celltoolbar": "Create Assignment",
  "kernelspec": {
   "display_name": "Python 3",
   "language": "python",
   "name": "python3"
  },
  "language_info": {
   "codemirror_mode": {
    "name": "ipython",
    "version": 3
   },
   "file_extension": ".py",
   "mimetype": "text/x-python",
   "name": "python",
   "nbconvert_exporter": "python",
   "pygments_lexer": "ipython3",
   "version": "3.6.7"
  }
 },
 "nbformat": 4,
 "nbformat_minor": 2
}
