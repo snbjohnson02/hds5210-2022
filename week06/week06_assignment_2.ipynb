{
 "cells": [
  {
   "cell_type": "markdown",
   "metadata": {
    "nbgrader": {
     "grade": false,
     "grade_id": "intro",
     "locked": true,
     "schema_version": 1,
     "solution": false
    }
   },
   "source": [
    "# Week 6 Exercises\n",
    "\n",
    "_McKinney 6.1_\n",
    "\n",
    "There are multiple ways to solve the problems below.  You can use any one of several approaches.  For example, you can read CSV files using Pandas or the csv module.  Your score won't depend on which modules you choose to use unless explicitly noted below, but your programming style will still matter."
   ]
  },
  {
   "cell_type": "markdown",
   "metadata": {
    "nbgrader": {
     "grade": false,
     "grade_id": "q1-description",
     "locked": true,
     "schema_version": 1,
     "solution": false
    }
   },
   "source": [
    "### 30.1 List of Allergies\n",
    "\n",
    "In the /data directory on the Jupyter server, there is a file called `allergies.json` that contains a list of patient allergies.  It is taken from sample data provided by the EHR vendor, Epic, here: https://open.epic.com/Clinical/Allergy\n",
    "\n",
    "Take some time to look at the structure of the file.  You can open it directly in Jupyter by clicking the _Home_ icon, then the _from_instructor_ folder, and then the _data_ folder.\n",
    "\n",
    "Within the file, you'll see that it is a dictionary with many items in it.  One of those items is called `entry` and that item is a list of things.  You can tell that because the item name is immediately followed by an opening square bracket, signifying the start of a list.  It's line 11 of the file: `  \"entry\": [`\n",
    "\n",
    "Write a function named `allergy_count(json_file)` that takes as one parameter the name of the JSON file and returns an integer number of entries in that file.  Your function should open the file, read the json into a Python object, and return how many items there are in the list of `entry`s."
   ]
  },
  {
   "cell_type": "code",
   "execution_count": 1,
   "metadata": {},
   "outputs": [],
   "source": [
    "import json\n",
    "from pathlib import Path\n",
    "HOME = str(Path.home())\n",
    "\n",
    "ALLERGIES_FILE=\"/data/allergies.json\""
   ]
  },
  {
   "cell_type": "code",
   "execution_count": 2,
   "metadata": {},
   "outputs": [],
   "source": [
    "systems = json.load(open(ALLERGIES_FILE))"
   ]
  },
  {
   "cell_type": "code",
   "execution_count": 3,
   "metadata": {},
   "outputs": [
    {
     "data": {
      "text/plain": [
       "{'resourceType': 'Bundle',\n",
       " 'type': 'searchset',\n",
       " 'total': 3,\n",
       " 'link': [{'relation': 'self',\n",
       "   'url': 'https://open-ic.epic.com/FHIR/api/FHIR/DSTU2/AllergyIntolerance?patient=Tbt3KuCY0B5PSrJvCu2j-PlK.aiHsu2xUjUM8bWpetXoB'}],\n",
       " 'entry': [{'fullUrl': 'https://open-ic.epic.com/FHIR/api/FHIR/DSTU2/AllergyIntolerance/TBwnNbrAqC0Qw5Ha7AFT-2AB',\n",
       "   'link': [{'relation': 'self',\n",
       "     'url': 'https://open-ic.epic.com/FHIR/api/FHIR/DSTU2/AllergyIntolerance/TBwnNbrAqC0Qw5Ha7AFT-2AB'}],\n",
       "   'search': {'mode': 'match'},\n",
       "   'resource': {'resourceType': 'AllergyIntolerance',\n",
       "    'recordedDate': '2015-08-24T23:11:36Z',\n",
       "    'status': 'confirmed',\n",
       "    'criticality': 'CRITL',\n",
       "    'id': 'TBwnNbrAqC0Qw5Ha7AFT-2AB',\n",
       "    'onset': '2012-11-07T00:00:00Z',\n",
       "    'recorder': {'display': 'MOORE, NICK',\n",
       "     'reference': 'https://open-ic.epic.com/FHIR/api/FHIR/DSTU2/Practitioner/TItWfhjChtlo0pFh9nzctSQB'},\n",
       "    'patient': {'display': 'Jason Argonaut',\n",
       "     'reference': 'https://open-ic.epic.com/FHIR/api/FHIR/DSTU2/Patient/Tbt3KuCY0B5PSrJvCu2j-PlK.aiHsu2xUjUM8bWpetXoB'},\n",
       "    'substance': {'text': 'PENICILLIN G',\n",
       "     'coding': [{'system': 'http://www.nlm.nih.gov/research/umls/rxnorm',\n",
       "       'code': '7980',\n",
       "       'display': 'PENICILLIN G'},\n",
       "      {'system': 'http://fdasis.nlm.nih.gov',\n",
       "       'code': 'Q42T66VG0C',\n",
       "       'display': 'PENICILLIN G'}]},\n",
       "    'reaction': [{'certainty': 'confirmed',\n",
       "      'onset': '2012-11-07T00:00:00Z',\n",
       "      'manifestation': [{'text': 'Hives'}],\n",
       "      'note': {'text': 'Severity low enough to be prescribed if needed.'}}],\n",
       "    'note': {'text': 'Severity low enough to be prescribed if needed.'}}},\n",
       "  {'fullUrl': 'https://open-ic.epic.com/FHIR/api/FHIR/DSTU2/AllergyIntolerance/TBwnNbrAqC0Qw5Ha3AFT-2AB',\n",
       "   'link': [{'relation': 'self',\n",
       "     'url': 'https://open-ic.epic.com/FHIR/api/FHIR/DSTU2/AllergyIntolerance/TBwnNbrAqC0Qw5Ha3AFT-2AB'}],\n",
       "   'search': {'mode': 'match'},\n",
       "   'resource': {'resourceType': 'AllergyIntolerance',\n",
       "    'recordedDate': '2011-09-14T23:11:36Z',\n",
       "    'status': 'confirmed',\n",
       "    'criticality': 'CRITL',\n",
       "    'id': 'TBwnNbrAqC0Qw5Ha3AFT-2AB',\n",
       "    'onset': '2012-11-07T00:00:00Z',\n",
       "    'recorder': {'display': 'JONES, ALICE',\n",
       "     'reference': 'https://open-ic.epic.com/FHIR/api/FHIR/DSTU2/Practitioner/TItWfhjChtlo0pFh9nzctSQA'},\n",
       "    'patient': {'display': 'Paul Boal',\n",
       "     'reference': 'https://open-ic.epic.com/FHIR/api/FHIR/DSTU2/Patient/Tbt3KuCY0B5PSrJvCu2j-PlK.aiHsu2xUjUM8bWpetXoZ'},\n",
       "    'substance': {'text': 'PENICILLIN G',\n",
       "     'coding': [{'system': 'http://www.nlm.nih.gov/research/umls/rxnorm',\n",
       "       'code': '7980',\n",
       "       'display': 'PENICILLIN G'},\n",
       "      {'system': 'http://fdasis.nlm.nih.gov',\n",
       "       'code': 'Q42T66VG0C',\n",
       "       'display': 'PENICILLIN G'}]},\n",
       "    'reaction': [{'certainty': 'confirmed',\n",
       "      'onset': '2009-11-07T00:00:00Z',\n",
       "      'manifestation': [{'text': 'Bruising'}, {'text': 'Shortness of breath'}],\n",
       "      'note': {'text': 'Severe. Do not prescribe.'}}],\n",
       "    'note': {'text': 'Severe. Do not prescribe.'}}},\n",
       "  {'fullUrl': 'https://open-ic.epic.com/FHIR/api/FHIR/DSTU2/AllergyIntolerance/TPcWiBG2h2E114Vh0sRT8fQB',\n",
       "   'link': [{'relation': 'self',\n",
       "     'url': 'https://open-ic.epic.com/FHIR/api/FHIR/DSTU2/AllergyIntolerance/TPcWiBG2h2E114Vh0sRT8fQB'}],\n",
       "   'search': {'mode': 'match'},\n",
       "   'resource': {'resourceType': 'AllergyIntolerance',\n",
       "    'recordedDate': '2015-11-07T20:55:10Z',\n",
       "    'status': 'confirmed',\n",
       "    'criticality': 'CRITL',\n",
       "    'id': 'TPcWiBG2h2E114Vh0sRT8fQB',\n",
       "    'onset': '2010-05-02T00:00:00Z',\n",
       "    'recorder': {'display': 'MOORE, NICK',\n",
       "     'reference': 'https://open-ic.epic.com/FHIR/api/FHIR/DSTU2/Practitioner/TItWfhjChtlo0pFh9nzctSQB'},\n",
       "    'patient': {'display': 'Jason Argonaut',\n",
       "     'reference': 'https://open-ic.epic.com/FHIR/api/FHIR/DSTU2/Patient/Tbt3KuCY0B5PSrJvCu2j-PlK.aiHsu2xUjUM8bWpetXoB'},\n",
       "    'substance': {'text': 'SHELLFISH-DERIVED PRODUCTS',\n",
       "     'coding': [{'system': 'http://hl7.org/fhir/ndfrt',\n",
       "       'code': 'N0000007624',\n",
       "       'display': 'SHELLFISH-DERIVED PRODUCTS'}]},\n",
       "    'reaction': [{'certainty': 'confirmed',\n",
       "      'onset': '2010-05-02T00:00:00Z',\n",
       "      'manifestation': [{'text': 'Itching'}]}]}},\n",
       "  {'fullUrl': 'https://open-ic.epic.com/FHIR/api/FHIR/DSTU2/AllergyIntolerance/TKebKfLXzu6Sp.LY-IpvpmQB',\n",
       "   'link': [{'relation': 'self',\n",
       "     'url': 'https://open-ic.epic.com/FHIR/api/FHIR/DSTU2/AllergyIntolerance/TKebKfLXzu6Sp.LY-IpvpmQB'}],\n",
       "   'search': {'mode': 'match'},\n",
       "   'resource': {'resourceType': 'AllergyIntolerance',\n",
       "    'recordedDate': '2015-11-07T20:56:34Z',\n",
       "    'status': 'confirmed',\n",
       "    'criticality': 'CRITH',\n",
       "    'id': 'TKebKfLXzu6Sp.LY-IpvpmQB',\n",
       "    'onset': '2014-03-07T00:00:00Z',\n",
       "    'recorder': {'display': 'MOORE, NICK',\n",
       "     'reference': 'https://open-ic.epic.com/FHIR/api/FHIR/DSTU2/Practitioner/TItWfhjChtlo0pFh9nzctSQB'},\n",
       "    'patient': {'display': 'Jason Argonaut',\n",
       "     'reference': 'https://open-ic.epic.com/FHIR/api/FHIR/DSTU2/Patient/Tbt3KuCY0B5PSrJvCu2j-PlK.aiHsu2xUjUM8bWpetXoB'},\n",
       "    'substance': {'text': 'STRAWBERRY',\n",
       "     'coding': [{'system': 'http://www.nlm.nih.gov/research/umls/rxnorm',\n",
       "       'code': '892484',\n",
       "       'display': 'STRAWBERRY'},\n",
       "      {'system': 'http://fdasis.nlm.nih.gov',\n",
       "       'code': '4J2TY8Y81V',\n",
       "       'display': 'STRAWBERRY'}]},\n",
       "    'reaction': [{'certainty': 'confirmed',\n",
       "      'onset': '2014-03-07T00:00:00Z',\n",
       "      'manifestation': [{'text': 'Anaphylaxis'}]}]}}]}"
      ]
     },
     "execution_count": 3,
     "metadata": {},
     "output_type": "execute_result"
    }
   ],
   "source": [
    "systems"
   ]
  },
  {
   "cell_type": "code",
   "execution_count": 4,
   "metadata": {},
   "outputs": [
    {
     "data": {
      "text/plain": [
       "dict"
      ]
     },
     "execution_count": 4,
     "metadata": {},
     "output_type": "execute_result"
    }
   ],
   "source": [
    "type(systems)"
   ]
  },
  {
   "cell_type": "code",
   "execution_count": 5,
   "metadata": {
    "nbgrader": {
     "grade": false,
     "grade_id": "q1-answer",
     "locked": false,
     "schema_version": 1,
     "solution": true
    }
   },
   "outputs": [],
   "source": [
    "import json\n",
    "### BEGIN SOLUTION\n",
    "'''This json file will open the file, read the json and return a number of entries in the file'''\n",
    "def allergy_count(json_file):\n",
    "    f = open(HOME + json_file)\n",
    "    data = json.load(f)\n",
    "    return len(data[\"entry\"])\n",
    "\n",
    "    \n",
    "### END SOLUTION"
   ]
  },
  {
   "cell_type": "code",
   "execution_count": 6,
   "metadata": {},
   "outputs": [
    {
     "data": {
      "text/plain": [
       "4"
      ]
     },
     "execution_count": 6,
     "metadata": {},
     "output_type": "execute_result"
    }
   ],
   "source": [
    "allergy_count(ALLERGIES_FILE)"
   ]
  },
  {
   "cell_type": "code",
   "execution_count": 7,
   "metadata": {
    "nbgrader": {
     "grade": true,
     "grade_id": "q1-tests",
     "locked": true,
     "points": 5,
     "schema_version": 1,
     "solution": false
    }
   },
   "outputs": [],
   "source": [
    "assert type(allergy_count(ALLERGIES_FILE)) == int\n",
    "assert allergy_count(ALLERGIES_FILE) == 4"
   ]
  },
  {
   "cell_type": "markdown",
   "metadata": {},
   "source": [
    "### 30.2 Number of Patients\n",
    "\n",
    "If you dig a little bit deaper into this list of allergies, you'll see that each result has a patient associated with it.  Create a funcation called `patient_count(json_file)` that will count how many unique patients we have in this JSON structure.  "
   ]
  },
  {
   "cell_type": "code",
   "execution_count": 8,
   "metadata": {},
   "outputs": [],
   "source": [
    "### BEGIN SOLUTION\n",
    "'''This json file will count how many unique patients that are in this structure'''\n",
    "def patients_count(json_file):\n",
    "    patients = []\n",
    "    data = open(HOME + json_file)\n",
    "    for entry in data[\"entry\"]:\n",
    "        patient = entry(\"resource\", \"patient\", \"display\")\n",
    "        if patient not in patients:\n",
    "                    patients.extend(patient)\n",
    "    return len(patients)\n",
    "    print(patient)\n",
    "    print(lens(patients))\n",
    "\n",
    "### END SOLUTION"
   ]
  },
  {
   "cell_type": "code",
   "execution_count": 9,
   "metadata": {},
   "outputs": [
    {
     "ename": "NameError",
     "evalue": "name 'patient_count' is not defined",
     "output_type": "error",
     "traceback": [
      "\u001b[0;31m---------------------------------------------------------------------------\u001b[0m",
      "\u001b[0;31mNameError\u001b[0m                                 Traceback (most recent call last)",
      "\u001b[0;32m<ipython-input-9-0809ae29512d>\u001b[0m in \u001b[0;36m<module>\u001b[0;34m\u001b[0m\n\u001b[0;32m----> 1\u001b[0;31m \u001b[0mpatient_count\u001b[0m\u001b[0;34m(\u001b[0m\u001b[0mALLERGIES_FILE\u001b[0m\u001b[0;34m)\u001b[0m\u001b[0;34m\u001b[0m\u001b[0;34m\u001b[0m\u001b[0m\n\u001b[0m",
      "\u001b[0;31mNameError\u001b[0m: name 'patient_count' is not defined"
     ]
    }
   ],
   "source": [
    "patient_count(ALLERGIES_FILE)"
   ]
  },
  {
   "cell_type": "markdown",
   "metadata": {},
   "source": [
    "### 30.3 How Many Allergies per Patient\n",
    "\n",
    "Although each entry is a separate allergy, several of them are for the same patient.  Write a function called `allergy_per_patient(json_file)` that counts up how many allergies each patient has.\n"
   ]
  },
  {
   "cell_type": "code",
   "execution_count": null,
   "metadata": {},
   "outputs": [],
   "source": [
    "### BEGIN SOLUTION\n",
    "'''This json file will document what each allergy a patient has.  A patient may not have any allergies or a patient may have more than one allergy.'''\n",
    "def allergy_per_patient(json_file):\n",
    "        allergies = []\n",
    "        f= open(HOME + json_file)\n",
    "        data = json.load(f)\n",
    "        for entry in data[\"entry\"]:\n",
    "            patient = entry[\"resource\"][\"patient\"][\"display\"]\n",
    "        if patient not in allergies:\n",
    "            print(\"patient has no allergies\")\n",
    "        elif  allergies[patient] > 2:\n",
    "            print(\"patient has more than 2 allergies\")\n",
    "        else:\n",
    "            allergies[patient] += 1\n",
    "            print(\"patient has 1 or 2 allergies\")\n",
    "            return allergies\n",
    "            print(allergies)\n",
    "            print(lens(patient))\n",
    "\n",
    "### END SOLUTION"
   ]
  },
  {
   "cell_type": "code",
   "execution_count": null,
   "metadata": {},
   "outputs": [],
   "source": [
    "allergy_per_patient(ALLERGIES_FILE)"
   ]
  },
  {
   "cell_type": "markdown",
   "metadata": {
    "nbgrader": {
     "grade": false,
     "grade_id": "q2-question",
     "locked": true,
     "schema_version": 1,
     "solution": false
    }
   },
   "source": [
    "### 30.4 Patient Allergies and Reaction\n",
    "\n",
    "You'll see in the file that each of the items in the `entry` list have several other attributes including a patient name, substance text representation, and a reaction manifestation.  Create a function named `allergy_list(json_file)` that will create an output list that has patient name, allergy, and reaction for each `entry`.  The actual result you should get will be:\n",
    "\n",
    "```python\n",
    "[['Jason Argonaut', 'PENICILLIN G', 'Hives'],\n",
    " ['Paul Boal', 'PENICILLIN G', 'Bruising'],\n",
    " ['Jason Argonaut', 'SHELLFISH-DERIVED PRODUCTS', 'Itching'],\n",
    " ['Jason Argonaut', 'STRAWBERRY', 'Anaphylaxis']]\n",
    "```\n",
    "\n",
    "You'll notice that the reaction and the manifestation of that action are lists.  You only need to capture the first reaction and the first manifestation of the action.  That is, if there is a list of things, just output the first one."
   ]
  },
  {
   "cell_type": "code",
   "execution_count": null,
   "metadata": {
    "nbgrader": {
     "grade": false,
     "grade_id": "q2-answer",
     "locked": false,
     "schema_version": 1,
     "solution": true
    }
   },
   "outputs": [],
   "source": [
    "import json\n",
    "\n",
    "### BEGIN SOLUTION\n",
    "'''This json file will output patients name along with allergy and type of reaction'''\n",
    "def allergy_list(json_file):\n",
    "    \n",
    "    allergies = []\n",
    "    \n",
    "    f = open(HOME + json_file)\n",
    "    data = json.load(f)\n",
    "    \n",
    "    for entry in data[\"entry\"]:\n",
    "        allergies.append([entry[\"resource\"][\"patient\"][\"display\"], entry[\"resource\"][\"substance\"][\"text\"], entry[\"resource\"][\"reaction\"][0][\"manifestation\"][0][\"text\"]])\n",
    "   \n",
    "    return allergies\n",
    "\n",
    "\n",
    "### END SOLUTION\n",
    "                         \n"
   ]
  },
  {
   "cell_type": "code",
   "execution_count": null,
   "metadata": {},
   "outputs": [],
   "source": [
    "allergies = [\n",
    "{\n",
    "  \"resourceType\": \"Bundle\",\n",
    "  \"type\": \"searchset\",\n",
    "  \"total\": 3,\n",
    "  \"link\": [\n",
    "    {\n",
    "      \"relation\": \"self\",\n",
    "      \"url\": \"https://open-ic.epic.com/FHIR/api/FHIR/DSTU2/AllergyIntolerance?patient=Tbt3KuCY0B5PSrJvCu2j-PlK.aiHsu2xUjUM8bWpetXoB\"\n",
    "    }\n",
    "  ],\n",
    "  \"entry\": [\n",
    "      \n",
    "    {\n",
    "      \"fullUrl\": \"https://open-ic.epic.com/FHIR/api/FHIR/DSTU2/AllergyIntolerance/TBwnNbrAqC0Qw5Ha7AFT-2AB\",\n",
    "      \"link\": [\n",
    "        {\n",
    "          \"relation\": \"self\",\n",
    "          \"url\": \"https://open-ic.epic.com/FHIR/api/FHIR/DSTU2/AllergyIntolerance/TBwnNbrAqC0Qw5Ha7AFT-2AB\"\n",
    "        }\n",
    "      ],\n",
    "      \"search\": {\n",
    "        \"mode\": \"match\"\n",
    "      },\n",
    "      \"resource\": {\n",
    "        \"resourceType\": \"AllergyIntolerance\",\n",
    "        \"recordedDate\": \"2015-08-24T23:11:36Z\",\n",
    "        \"status\": \"confirmed\",\n",
    "        \"criticality\": \"CRITL\",\n",
    "        \"id\": \"TBwnNbrAqC0Qw5Ha7AFT-2AB\",\n",
    "        \"onset\": \"2012-11-07T00:00:00Z\",\n",
    "        \"recorder\": {\n",
    "          \"display\": \"MOORE, NICK\",\n",
    "          \"reference\": \"https://open-ic.epic.com/FHIR/api/FHIR/DSTU2/Practitioner/TItWfhjChtlo0pFh9nzctSQB\"\n",
    "        },\n",
    "        \"patient\": {\n",
    "          \"display\": \"Jason Argonaut\",\n",
    "          \"reference\": \"https://open-ic.epic.com/FHIR/api/FHIR/DSTU2/Patient/Tbt3KuCY0B5PSrJvCu2j-PlK.aiHsu2xUjUM8bWpetXoB\"\n",
    "        },\n",
    "        \"substance\": {\n",
    "          \"text\": \"PENICILLIN G\",\n",
    "          \"coding\": [\n",
    "            {\n",
    "              \"system\": \"http://www.nlm.nih.gov/research/umls/rxnorm\",\n",
    "              \"code\": \"7980\",\n",
    "              \"display\": \"PENICILLIN G\"\n",
    "            },\n",
    "            {\n",
    "              \"system\": \"http://fdasis.nlm.nih.gov\",\n",
    "              \"code\": \"Q42T66VG0C\",\n",
    "              \"display\": \"PENICILLIN G\"\n",
    "            }\n",
    "          ]\n",
    "        },\n",
    "        \"reaction\": [\n",
    "          {\n",
    "            \"certainty\": \"confirmed\",\n",
    "            \"onset\": \"2012-11-07T00:00:00Z\",\n",
    "            \"manifestation\": [\n",
    "              {\n",
    "                \"text\": \"Hives\"\n",
    "              }\n",
    "            ],\n",
    "            \"note\": {\n",
    "              \"text\": \"Severity low enough to be prescribed if needed.\"\n",
    "            }\n",
    "          }\n",
    "        ],\n",
    "        \"note\": {\n",
    "          \"text\": \"Severity low enough to be prescribed if needed.\"\n",
    "        }\n",
    "      }\n",
    "    },\n",
    "\n",
    "          {\n",
    "      \"fullUrl\": \"https://open-ic.epic.com/FHIR/api/FHIR/DSTU2/AllergyIntolerance/TBwnNbrAqC0Qw5Ha3AFT-2AB\",\n",
    "      \"link\": [\n",
    "        {\n",
    "          \"relation\": \"self\",\n",
    "          \"url\": \"https://open-ic.epic.com/FHIR/api/FHIR/DSTU2/AllergyIntolerance/TBwnNbrAqC0Qw5Ha3AFT-2AB\"\n",
    "        }\n",
    "      ],\n",
    "      \"search\": {\n",
    "        \"mode\": \"match\"\n",
    "      },\n",
    "      \"resource\": {\n",
    "        \"resourceType\": \"AllergyIntolerance\",\n",
    "        \"recordedDate\": \"2011-09-14T23:11:36Z\",\n",
    "        \"status\": \"confirmed\",\n",
    "        \"criticality\": \"CRITL\",\n",
    "        \"id\": \"TBwnNbrAqC0Qw5Ha3AFT-2AB\",\n",
    "        \"onset\": \"2012-11-07T00:00:00Z\",\n",
    "        \"recorder\": {\n",
    "          \"display\": \"JONES, ALICE\",\n",
    "          \"reference\": \"https://open-ic.epic.com/FHIR/api/FHIR/DSTU2/Practitioner/TItWfhjChtlo0pFh9nzctSQA\"\n",
    "        },\n",
    "        \"patient\": {\n",
    "          \"display\": \"Paul Boal\",\n",
    "          \"reference\": \"https://open-ic.epic.com/FHIR/api/FHIR/DSTU2/Patient/Tbt3KuCY0B5PSrJvCu2j-PlK.aiHsu2xUjUM8bWpetXoZ\"\n",
    "        },\n",
    "        \"substance\": {\n",
    "          \"text\": \"PENICILLIN G\",\n",
    "          \"coding\": [\n",
    "            {\n",
    "              \"system\": \"http://www.nlm.nih.gov/research/umls/rxnorm\",\n",
    "              \"code\": \"7980\",\n",
    "              \"display\": \"PENICILLIN G\"\n",
    "            },\n",
    "            {\n",
    "              \"system\": \"http://fdasis.nlm.nih.gov\",\n",
    "              \"code\": \"Q42T66VG0C\",\n",
    "              \"display\": \"PENICILLIN G\"\n",
    "            }\n",
    "          ]\n",
    "        },\n",
    "        \"reaction\": [\n",
    "          {\n",
    "            \"certainty\": \"confirmed\",\n",
    "            \"onset\": \"2009-11-07T00:00:00Z\",\n",
    "            \"manifestation\": [\n",
    "              {\n",
    "                \"text\": \"Bruising\"\n",
    "              },\n",
    "              {\n",
    "                \"text\": \"Shortness of breath\"\n",
    "              }\n",
    "            ],\n",
    "            \"note\": {\n",
    "              \"text\": \"Severe. Do not prescribe.\"\n",
    "            }\n",
    "          }\n",
    "        ],\n",
    "        \"note\": {\n",
    "          \"text\": \"Severe. Do not prescribe.\"\n",
    "        }\n",
    "      }\n",
    "    },\n",
    "    {\n",
    "      \"fullUrl\": \"https://open-ic.epic.com/FHIR/api/FHIR/DSTU2/AllergyIntolerance/TPcWiBG2h2E114Vh0sRT8fQB\",\n",
    "      \"link\": [\n",
    "        {\n",
    "          \"relation\": \"self\",\n",
    "          \"url\": \"https://open-ic.epic.com/FHIR/api/FHIR/DSTU2/AllergyIntolerance/TPcWiBG2h2E114Vh0sRT8fQB\"\n",
    "        }\n",
    "      ],\n",
    "      \"search\": {\n",
    "        \"mode\": \"match\"\n",
    "      },\n",
    "      \"resource\": {\n",
    "        \"resourceType\": \"AllergyIntolerance\",\n",
    "        \"recordedDate\": \"2015-11-07T20:55:10Z\",\n",
    "        \"status\": \"confirmed\",\n",
    "        \"criticality\": \"CRITL\",\n",
    "        \"id\": \"TPcWiBG2h2E114Vh0sRT8fQB\",\n",
    "        \"onset\": \"2010-05-02T00:00:00Z\",\n",
    "        \"recorder\": {\n",
    "          \"display\": \"MOORE, NICK\",\n",
    "          \"reference\": \"https://open-ic.epic.com/FHIR/api/FHIR/DSTU2/Practitioner/TItWfhjChtlo0pFh9nzctSQB\"\n",
    "        },\n",
    "        \"patient\": {\n",
    "          \"display\": \"Jason Argonaut\",\n",
    "          \"reference\": \"https://open-ic.epic.com/FHIR/api/FHIR/DSTU2/Patient/Tbt3KuCY0B5PSrJvCu2j-PlK.aiHsu2xUjUM8bWpetXoB\"\n",
    "        },\n",
    "        \"substance\": {\n",
    "          \"text\": \"SHELLFISH-DERIVED PRODUCTS\",\n",
    "          \"coding\": [\n",
    "            {\n",
    "              \"system\": \"http://hl7.org/fhir/ndfrt\",\n",
    "              \"code\": \"N0000007624\",\n",
    "              \"display\": \"SHELLFISH-DERIVED PRODUCTS\"\n",
    "            }\n",
    "          ]\n",
    "        },\n",
    "        \"reaction\": [\n",
    "          {\n",
    "            \"certainty\": \"confirmed\",\n",
    "            \"onset\": \"2010-05-02T00:00:00Z\",\n",
    "            \"manifestation\": [\n",
    "              {\n",
    "                \"text\": \"Itching\"\n",
    "              }\n",
    "            ]\n",
    "          }\n",
    "        ]\n",
    "      }\n",
    "    },\n",
    "      \n",
    "    {\n",
    "      \"fullUrl\": \"https://open-ic.epic.com/FHIR/api/FHIR/DSTU2/AllergyIntolerance/TKebKfLXzu6Sp.LY-IpvpmQB\",\n",
    "      \"link\": [\n",
    "        {\n",
    "          \"relation\": \"self\",\n",
    "          \"url\": \"https://open-ic.epic.com/FHIR/api/FHIR/DSTU2/AllergyIntolerance/TKebKfLXzu6Sp.LY-IpvpmQB\"\n",
    "        }\n",
    "      ],\n",
    "      \"search\": {\n",
    "        \"mode\": \"match\"\n",
    "      },\n",
    "      \"resource\": {\n",
    "        \"resourceType\": \"AllergyIntolerance\",\n",
    "        \"recordedDate\": \"2015-11-07T20:56:34Z\",\n",
    "        \"status\": \"confirmed\",\n",
    "        \"criticality\": \"CRITH\",\n",
    "        \"id\": \"TKebKfLXzu6Sp.LY-IpvpmQB\",\n",
    "        \"onset\": \"2014-03-07T00:00:00Z\",\n",
    "        \"recorder\": {\n",
    "          \"display\": \"MOORE, NICK\",\n",
    "          \"reference\": \"https://open-ic.epic.com/FHIR/api/FHIR/DSTU2/Practitioner/TItWfhjChtlo0pFh9nzctSQB\"\n",
    "        },\n",
    "        \"patient\": {\n",
    "          \"display\": \"Jason Argonaut\",\n",
    "          \"reference\": \"https://open-ic.epic.com/FHIR/api/FHIR/DSTU2/Patient/Tbt3KuCY0B5PSrJvCu2j-PlK.aiHsu2xUjUM8bWpetXoB\"\n",
    "        },\n",
    "        \"substance\": {\n",
    "          \"text\": \"STRAWBERRY\",\n",
    "          \"coding\": [\n",
    "            {\n",
    "              \"system\": \"http://www.nlm.nih.gov/research/umls/rxnorm\",\n",
    "              \"code\": \"892484\",\n",
    "              \"display\": \"STRAWBERRY\"\n",
    "            },\n",
    "            {\n",
    "              \"system\": \"http://fdasis.nlm.nih.gov\",\n",
    "              \"code\": \"4J2TY8Y81V\",\n",
    "              \"display\": \"STRAWBERRY\"\n",
    "            }\n",
    "          ]\n",
    "        },\n",
    "        \"reaction\": [\n",
    "          {\n",
    "            \"certainty\": \"confirmed\",\n",
    "            \"onset\": \"2014-03-07T00:00:00Z\",\n",
    "            \"manifestation\": [\n",
    "              {\n",
    "                \"text\": \"Anaphylaxis\"\n",
    "              }\n",
    "            ]\n",
    "          }\n",
    "        ]\n",
    "      }\n",
    "    }\n",
    "  ]\n",
    "}\n",
    "]"
   ]
  },
  {
   "cell_type": "code",
   "execution_count": null,
   "metadata": {
    "nbgrader": {
     "grade": true,
     "grade_id": "q2-tests",
     "locked": true,
     "points": 10,
     "schema_version": 1,
     "solution": false
    }
   },
   "outputs": [],
   "source": [
    "output=[['Jason Argonaut', 'PENICILLIN G', 'Hives'],\n",
    " ['Paul Boal', 'PENICILLIN G', 'Bruising'],\n",
    " ['Jason Argonaut', 'SHELLFISH-DERIVED PRODUCTS', 'Itching'],\n",
    " ['Jason Argonaut', 'STRAWBERRY', 'Anaphylaxis']]\n",
    "\n",
    "assert allergy_list(ALLERGIES_FILE) == output\n"
   ]
  },
  {
   "cell_type": "markdown",
   "metadata": {
    "nbgrader": {
     "grade": false,
     "grade_id": "q3-question",
     "locked": true,
     "schema_version": 1,
     "solution": false
    }
   },
   "source": [
    "### 30.5 Allergy Reaction\n",
    "\n",
    "Write a function called `allergy_reaction(json_file,patient,substance)` that takes three parameter and returns the reaction that will happen if the patient takes the specified substance.  Solve this, in part, by calling your `allergy_list` function inside your new `allergy_reaction` function.\n",
    "\n",
    "If the substance is not found in the allergy list, the function should return None."
   ]
  },
  {
   "cell_type": "code",
   "execution_count": null,
   "metadata": {
    "nbgrader": {
     "grade": false,
     "grade_id": "q3-answer",
     "locked": false,
     "schema_version": 1,
     "solution": true
    }
   },
   "outputs": [],
   "source": [
    "import json\n",
    "'''For this json file, I will be taking three parameters in consideration for the type of allergic reaction a patient may have to what type of substance they are allergic too.'''\n",
    "### BEGIN SOLUTION\n",
    "def allergy_reaction(json_file, patient, substance):\n",
    "    allergies = allergy_list(json_file)\n",
    "    for name, sub, react in allergy_list(json_file):\n",
    "            if name == patient and sub == substance:\n",
    "                return react\n",
    "    return None\n",
    "### END SOLUTION"
   ]
  },
  {
   "cell_type": "code",
   "execution_count": null,
   "metadata": {
    "nbgrader": {
     "grade": true,
     "grade_id": "q3-tests",
     "locked": true,
     "points": 5,
     "schema_version": 1,
     "solution": false
    }
   },
   "outputs": [],
   "source": [
    "assert allergy_reaction(ALLERGIES_FILE, 'Jason Argonaut', 'PENICILLIN G') == 'Hives'\n",
    "assert allergy_reaction(ALLERGIES_FILE, 'Jason Argonaut', 'SHELLFISH-DERIVED PRODUCTS') == 'Itching'\n",
    "assert allergy_reaction(ALLERGIES_FILE, 'Jason Argonaut', 'STRAWBERRY') == 'Anaphylaxis'\n",
    "assert allergy_reaction(ALLERGIES_FILE, 'Jason Argonaut', 'PENICILLIN') == None\n",
    "assert allergy_reaction(ALLERGIES_FILE, 'Paul Boal', 'PENICILLIN G') == 'Bruising'"
   ]
  },
  {
   "cell_type": "markdown",
   "metadata": {},
   "source": [
    "---\n",
    "---\n",
    "\n",
    "# Stretch (Extra) Problem\n",
    "\n",
    "Work on either of the stretch problems below can earn you up to 25 free points toward the midterm assignment.  That is, if you complete one of these extra problems successfully, you can skip 1 of the problems that will appear on the midterm exam coming up next week.\n",
    "\n",
    "The midterm will be distributed 10/14 and due 10/24.\n",
    "\n"
   ]
  },
  {
   "cell_type": "markdown",
   "metadata": {},
   "source": [
    "---\n",
    "---\n",
    "\n",
    "### STRETCH for October 2022 - For those looking for an additional challenge\n",
    "\n",
    "As I've mentioned in class, CMS is now enforcing a rule around price transparency.  Every facility that take Medicare payments is required to publish a \"machine readable\" file with it's pricing infomration for a number of common procedures across all of the payers they work with.  There are two examples of such files in the `/data/` directory: `whiteriver.json` and `saline.xml`.\n",
    "\n",
    "If you want to compare contracted prices across these two hospitals, you'll need to read in the information from both of those files into some kind of data structure, then merge the data together from those two files.  See what you can do.\n",
    "\n",
    "See if you can create an output file that has the following fields:\n",
    "* HOSPITAL\n",
    "* PROCEDURE_CODE\n",
    "* PAYER\n",
    "* AMOUNT\n",
    "\n",
    "If you choose to work on this, you may get stuck at some point and you won't know if you're _doing it right_. Make some assumptions. Document your questions in this notebook.\n",
    "\n"
   ]
  },
  {
   "cell_type": "markdown",
   "metadata": {},
   "source": [
    "```\n",
    "Procedure Code |  Description  |  Gross Charges  |  Aetna  |  QualChoice\n",
    "```"
   ]
  },
  {
   "cell_type": "code",
   "execution_count": null,
   "metadata": {},
   "outputs": [],
   "source": []
  },
  {
   "cell_type": "code",
   "execution_count": null,
   "metadata": {},
   "outputs": [],
   "source": []
  },
  {
   "cell_type": "markdown",
   "metadata": {},
   "source": [
    "---\n",
    "\n",
    "## Check your work above\n",
    "\n",
    "If you didn't get them all correct, take a few minutes to think through those that aren't correct.\n",
    "\n",
    "\n",
    "## Submitting Your Work\n",
    "\n",
    "In order to submit your work, you'll need to use the `git` command line program to **add** your homework file (this file) to your local repository, **commit** your changes to your local repository, and then **push** those changes up to github.com.  From there, I'll be able to **pull** the changes down and do my grading.  I'll provide some feedback, **commit** and **push** my comments back to you.  Next week, I'll show you how to **pull** down my comments.\n",
    "\n",
    "First run through everything one last time and submit your work:\n",
    "1. Use the `Kernel` -> `Restart Kernel and Run All Cells` menu option to run everything from top to bottom and stop here.\n",
    "2. Then open a new command line by clicking the `+` icon above the file list and chosing `Terminal`\n",
    "3. At the command line in the new Terminal, follow these steps:\n",
    "  1. Change directories to your project folder and the week03 subfolder (`cd <folder name>`)\n",
    "  2. Make sure your project folders are up to date with github.com (`git pull`)\n",
    "  3. Add the homework files for this week (`git add <file name>`)\n",
    "  4. Commit your changes (`git commit -a -m \"message\"`)\n",
    "  5. Push your changes (`git push`)\n",
    "  \n",
    "If anything fails along the way with this submission part of the process, let me know.  I'll help you troubleshoort."
   ]
  }
 ],
 "metadata": {
  "celltoolbar": "Create Assignment",
  "kernelspec": {
   "display_name": "Python 3",
   "language": "python",
   "name": "python3"
  },
  "language_info": {
   "codemirror_mode": {
    "name": "ipython",
    "version": 3
   },
   "file_extension": ".py",
   "mimetype": "text/x-python",
   "name": "python",
   "nbconvert_exporter": "python",
   "pygments_lexer": "ipython3",
   "version": "3.6.7"
  }
 },
 "nbformat": 4,
 "nbformat_minor": 2
}
